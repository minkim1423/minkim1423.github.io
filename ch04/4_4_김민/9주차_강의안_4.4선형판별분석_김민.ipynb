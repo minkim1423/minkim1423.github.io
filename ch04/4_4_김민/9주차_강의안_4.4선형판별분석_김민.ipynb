{
 "cells": [
  {
   "cell_type": "markdown",
   "metadata": {},
   "source": [
    "# CH.4.4 선형판별분석(Linear Discriminant Analysis)"
   ]
  },
  {
   "cell_type": "markdown",
   "metadata": {},
   "source": [
    "## **수업목표**\n",
    "1.\n",
    "### Confusion Matrix , ROC(receiver operating characteristic) curve 이해\n",
    "2.\n",
    "### LDA, QDA, (+Baysian Classifier) 에 대한 이해와 실습\n",
    "---"
   ]
  },
  {
   "cell_type": "markdown",
   "metadata": {},
   "source": [
    "# 혼동행렬(Confusion Matrix)\n",
    "\n",
    "**Confusion Matrix는 정확도(accuracy), 정밀도(precision), 재현율(recall) 등을 측정할 수 있는 테이블**\n",
    "\n",
    "T : Truth 참\n",
    "F : False 허위, 거짓\n",
    "P : Positive 양성\n",
    "N : Negative 음성\n",
    "\n",
    "TP(True Positive): True를 True로 잘 예측한 것\n",
    "\n",
    "TN(True Negative): False를 False로 잘 예측한 것\n",
    "\n",
    "FP(False Positive): False를 True로 잘 못 예측한 것\n",
    "\n",
    "FN(False Negative): True를 False로 잘 못 예측한 것\n",
    "\n",
    "---"
   ]
  },
  {
   "cell_type": "markdown",
   "metadata": {},
   "source": [
    "정확도=True를 True로, Flase를 False로 잘 예측했는가?\n",
    "$$accuracy=\\frac{TP+TN}{TP+TN+FP+FN}$$\n",
    "\n",
    "* 100,000개 데이터 중 99,900개 정상거래, 100개 사기 거래인 경우 = 정확도 : 99.9% \n",
    "\n",
    "but, 우리가 관심이 있는 부분은 100개의 사기 거래에 대한 예측. 이 경우 정확도는 적절한 평가지표가 아님\n",
    "\n",
    "---"
   ]
  },
  {
   "cell_type": "markdown",
   "metadata": {},
   "source": [
    "정밀도= True로 예측한 값들 중에서 정말로 예측한 값이 맞는가?\n",
    "$$precision=\\frac{TP}{TP+FP}$$\n",
    "* 정밀도가 상대적으로 더 중요한 지표인 경우 실제 False인 데이터 예측을 Positive로 잘못 판단(허위 음성)하게 되면 큰 불이익이 발생하는 경우\n",
    "* 정밀도와 재현율은 서로 상충관계인 경우가 많음\n",
    "* 예를 들어, 임계값을 높게 설정하면 정밀도는 증가하지만 재현율은 감소함\n",
    "---"
   ]
  },
  {
   "cell_type": "markdown",
   "metadata": {},
   "source": [
    "특이도 : 음성 중 실제로 음성이라고 예측한 비율\n",
    "$$fallout=\\frac{TN}{FP+TN}$$\n",
    "\n",
    "* 1-FPR = type 1 error\n",
    "\n",
    "---"
   ]
  },
  {
   "cell_type": "markdown",
   "metadata": {},
   "source": [
    "민감도,재현율 = 잘 예측한 클래스 중 실제로 참인데 positive로 예측한 비율\n",
    "$$recall=\\frac{TP}{TP+FN}$$\n",
    "* 재현율(recall), 민감도(sensitivity), TPR(True Positive Rate)라고 불림.\n",
    "* 1-TPR = type 2 error -> 특히 중요할 수 있음\n",
    "\n",
    "---"
   ]
  },
  {
   "cell_type": "markdown",
   "metadata": {},
   "source": [
    "F1 Score 정밀도와 재현율은 상호 보완할 수 있는 수준에서 적용돼야 합니다. 그렇지 않고 단순히 하나의 성능 지표 수치를 높이기 위한 수단으로 사용해서는 안 됩니다. 정밀도와 재현율을 결합한 지표를 F1 Score라고 합니다. F1 Score는 정밀도와 재현율이 어느 한쪽으로 치우치지 않는 수치를 나타낼 때 상대적으로 높은 값을 가집니다.\n",
    "$$F_{1} Score=2 \\times \\frac{(precision\\times recall)}{precision+recall}$$\n",
    "\n",
    "* 파이썬 - sklearn.metrics에서 classification_report 메소드 이용하면 쉽게 구할 수 있음."
   ]
  },
  {
   "cell_type": "markdown",
   "metadata": {},
   "source": [
    "정밀도와 재현율의 가중조화평균(weight harmonic average)을 F점수(F-score)라고 한다. 정밀도에 주어지는 가중치를 베타(beta)라고 한다.\n",
    "\n",
    "Fβ=(1+β2)(precision×recall)/(β2precision+recall)\n",
    "베타가 1인 경우를 특별히 F1점수라고 한다.\n",
    "\n",
    "F1=2⋅precision⋅recall/(precision+recall)\n",
    "사이킷런 패키지의 metrics 패키지에서는 정밀도, 재현율, F1점수를 구하는 classification_report 명령을 제공한다. 이 명령은 각각의 클래스를 양성(positive) 클래스로 보았을 때의 정밀도, 재현율, F1점수를 각각 구하고 그 평균값으로 전체 모형의 성능을 평가한다."
   ]
  },
  {
   "cell_type": "markdown",
   "metadata": {},
   "source": [
    "---\n",
    "# 선형판별분석(LDA)\n",
    "가정(Assumptions) \n",
    "선형 판별 분석은 각 클래스 집단이 정규분포의 형태의 확률 분포를 가진다고 가정\n",
    "\n",
    "선형 판별 분석은 각 클래스 집단이 비슷한 형태의 공분산 구조를 가진다고 가정\n",
    "\n",
    " \n",
    "\n",
    "판별과 차원 축소의 기능\n",
    "2차원(두 가지 독립변수)의 두 가지 범주를 갖는 데이터를 분류하는 문제에서 LDA는 하나의 차원에 투사(Prohection) 하여 차원을 축소 시킴 \n",
    "\n",
    "- LDA는 차원 축소의 개념을 포함함\n",
    "\n",
    "- 2차원 자료들을 판별 축에 projection 시킨 분포의 형태를 고려 "
   ]
  },
  {
   "cell_type": "markdown",
   "metadata": {},
   "source": [
    "장단점 \n",
    "- 장점\n",
    "\n",
    "변수 간 공분산 구조를 반영함\n",
    "\n",
    "공분산 구조 가정이 살짝 위반되더라도 비교적 원활하게 동작함\n",
    "\n",
    " \n",
    "\n",
    "-단점 \n",
    "\n",
    "가장 작은 그룹의 샘플의 수가 설명 변수의 개수보다 많아야 함 \n",
    "\n",
    "정규분포 가정에서 크게 벗어날 경우 잘 동작하지를 못한다\n",
    "\n",
    "범주 사이에 공분산 구조가 많이 다를 경우를 반영하지 못한다. "
   ]
  },
  {
   "cell_type": "code",
   "execution_count": 1,
   "metadata": {
    "scrolled": true
   },
   "outputs": [
    {
     "data": {
      "image/png": "[encoded data removed]",
      "text/plain": [
       "<Figure size 432x288 with 1 Axes>"
      ]
     },
     "metadata": {
      "needs_background": "light"
     },
     "output_type": "display_data"
    }
   ],
   "source": [
    "import scipy as sp\n",
    "import numpy as np\n",
    "import matplotlib.pyplot as plt\n",
    "import scipy.stats\n",
    "N = 100\n",
    "rv1 = sp.stats.multivariate_normal([ 0, 0], [[0.7, 0.0], [0.0, 0.7]])\n",
    "rv2 = sp.stats.multivariate_normal([ 1, 1], [[0.8, 0.2], [0.2, 0.8]])\n",
    "rv3 = sp.stats.multivariate_normal([-1, 1], [[0.8, 0.2], [0.2, 0.8]])\n",
    "np.random.seed(0)\n",
    "X1 = rv1.rvs(N)\n",
    "X2 = rv2.rvs(N)\n",
    "X3 = rv3.rvs(N)\n",
    "y1 = np.zeros(N)\n",
    "y2 = np.ones(N)\n",
    "y3 = 2 * np.ones(N)\n",
    "X = np.vstack([X1, X2, X3])\n",
    "y = np.hstack([y1, y2, y3])\n",
    "\n",
    "plt.scatter(X1[:, 0], X1[:, 1], alpha=0.8, s=50, marker=\"o\", color='r', label=\"class 1\")\n",
    "plt.scatter(X2[:, 0], X2[:, 1], alpha=0.8, s=50, marker=\"s\", color='g', label=\"class 2\")\n",
    "plt.scatter(X3[:, 0], X3[:, 1], alpha=0.8, s=50, marker=\"x\", color='b', label=\"class 3\")\n",
    "plt.xlim(-5, 5)\n",
    "plt.ylim(-4, 5)\n",
    "plt.xlabel(\"$x_1$\")\n",
    "plt.ylabel(\"$x_2$\")\n",
    "plt.legend()\n",
    "plt.show()"
   ]
  },
  {
   "cell_type": "code",
   "execution_count": 2,
   "metadata": {},
   "outputs": [],
   "source": [
    "from sklearn.discriminant_analysis import LinearDiscriminantAnalysis\n",
    "\n",
    "lda = LinearDiscriminantAnalysis(store_covariance=True).fit(X, y)"
   ]
  },
  {
   "cell_type": "code",
   "execution_count": 3,
   "metadata": {},
   "outputs": [
    {
     "data": {
      "image/png": "[encoded data removed]",
      "text/plain": [
       "<Figure size 432x288 with 1 Axes>"
      ]
     },
     "metadata": {
      "needs_background": "light"
     },
     "output_type": "display_data"
    }
   ],
   "source": [
    "import matplotlib as mpl\n",
    "import seaborn as sns\n",
    "x1min, x1max = -5, 5\n",
    "x2min, x2max = -4, 5\n",
    "XX1, XX2 = np.meshgrid(np.arange(x1min, x1max, (x1max-x1min)/1000),\n",
    "                       np.arange(x2min, x2max, (x2max-x2min)/1000))\n",
    "YY = np.reshape(lda.predict(np.array([XX1.ravel(), XX2.ravel()]).T), XX1.shape)\n",
    "cmap = mpl.colors.ListedColormap(sns.color_palette([\"r\", \"g\", \"b\"]).as_hex())\n",
    "plt.contourf(XX1, XX2, YY, cmap=cmap, alpha=0.5)\n",
    "plt.scatter(X1[:, 0], X1[:, 1], alpha=0.8, s=50, marker=\"o\", color='r', label=\"class 1\")\n",
    "plt.scatter(X2[:, 0], X2[:, 1], alpha=0.8, s=50, marker=\"s\", color='g', label=\"class 2\")\n",
    "plt.scatter(X3[:, 0], X3[:, 1], alpha=0.8, s=50, marker=\"x\", color='b', label=\"class 3\")\n",
    "plt.xlim(x1min, x1max)\n",
    "plt.ylim(x2min, x2max)\n",
    "plt.xlabel(\"$x_1$\")\n",
    "plt.ylabel(\"$x_2$\")\n",
    "plt.legend()\n",
    "plt.title(\"LDA\")\n",
    "plt.show()"
   ]
  },
  {
   "cell_type": "markdown",
   "metadata": {},
   "source": [
    "---\n",
    "# 이차판별분석(QDA)\n",
    "LDA의 결정 경계는 선형으로 가정하고 있기 때문에 Y의 범주 별로 서로 다른 공분산 구조에서의 분류에 어려움이 있다.\n",
    "\n",
    "이차 판별 분석은 Y의 범주가 서로 다른 공분산 구조를 가진 경우에서 활용이 가능하다. "
   ]
  },
  {
   "cell_type": "markdown",
   "metadata": {},
   "source": [
    "장단점 \n",
    "장점\n",
    "\n",
    "- 비선형 분류가 가능하다.\n",
    "\n",
    "단점\n",
    "\n",
    "- 설명 변수의 개수가 많을 경우, 추정해야 하는 모수가 많아짐 → 연산량이 큼 "
   ]
  },
  {
   "cell_type": "code",
   "execution_count": 4,
   "metadata": {},
   "outputs": [],
   "source": [
    "from sklearn.discriminant_analysis import QuadraticDiscriminantAnalysis\n",
    "\n",
    "qda = QuadraticDiscriminantAnalysis(store_covariance=True).fit(X, y)"
   ]
  },
  {
   "cell_type": "code",
   "execution_count": 5,
   "metadata": {},
   "outputs": [
    {
     "data": {
      "image/png": "[encoded data removed]",
      "text/plain": [
       "<Figure size 432x288 with 1 Axes>"
      ]
     },
     "metadata": {
      "needs_background": "light"
     },
     "output_type": "display_data"
    }
   ],
   "source": [
    "x1min, x1max = -5, 5\n",
    "x2min, x2max = -4, 5\n",
    "XX1, XX2 = np.meshgrid(np.arange(x1min, x1max, (x1max-x1min)/1000),\n",
    "                       np.arange(x2min, x2max, (x2max-x2min)/1000))\n",
    "YY = np.reshape(qda.predict(np.array([XX1.ravel(), XX2.ravel()]).T), XX1.shape)\n",
    "cmap = mpl.colors.ListedColormap(sns.color_palette([\"r\", \"g\", \"b\"]).as_hex())\n",
    "plt.contourf(XX1, XX2, YY, cmap=cmap, alpha=0.5)\n",
    "plt.scatter(X1[:, 0], X1[:, 1], alpha=0.8, s=50, marker=\"o\", color='r', label=\"class 1\")\n",
    "plt.scatter(X2[:, 0], X2[:, 1], alpha=0.8, s=50, marker=\"s\", color='g', label=\"class 2\")\n",
    "plt.scatter(X3[:, 0], X3[:, 1], alpha=0.8, s=50, marker=\"x\", color='b', label=\"class 3\")\n",
    "plt.xlim(x1min, x1max)\n",
    "plt.ylim(x2min, x2max)\n",
    "plt.xlabel(\"$x_1$\")\n",
    "plt.ylabel(\"$x_2$\")\n",
    "plt.title(\"QDA\")\n",
    "plt.legend()\n",
    "plt.show()"
   ]
  },
  {
   "cell_type": "markdown",
   "metadata": {},
   "source": [
    "# package import"
   ]
  },
  {
   "cell_type": "code",
   "execution_count": 6,
   "metadata": {},
   "outputs": [],
   "source": [
    "import pandas as pd\n",
    "import numpy as np"
   ]
  },
  {
   "cell_type": "code",
   "execution_count": 7,
   "metadata": {},
   "outputs": [],
   "source": [
    "from sklearn.metrics import confusion_matrix\n",
    "from sklearn import metrics\n",
    "from sklearn.datasets import make_classification\n",
    "from sklearn.metrics import classification_report"
   ]
  },
  {
   "cell_type": "code",
   "execution_count": 8,
   "metadata": {},
   "outputs": [],
   "source": [
    "from sklearn.discriminant_analysis import LinearDiscriminantAnalysis\n",
    "from sklearn.discriminant_analysis import QuadraticDiscriminantAnalysis\n",
    "from sklearn.naive_bayes import MultinomialNB\n",
    "from sklearn.naive_bayes import GaussianNB"
   ]
  },
  {
   "cell_type": "code",
   "execution_count": 9,
   "metadata": {},
   "outputs": [],
   "source": [
    "from sklearn.metrics import roc_curve\n",
    "from sklearn.metrics import roc_auc_score"
   ]
  },
  {
   "cell_type": "markdown",
   "metadata": {},
   "source": [
    "# data import"
   ]
  },
  {
   "cell_type": "code",
   "execution_count": 10,
   "metadata": {},
   "outputs": [
    {
     "name": "stdout",
     "output_type": "stream",
     "text": [
      "(10000, 4)\n",
      "  default student      balance        income\n",
      "0      No      No   729.526495  44361.625074\n",
      "1      No     Yes   817.180407  12106.134700\n",
      "2      No      No  1073.549164  31767.138947\n",
      "3      No      No   529.250605  35704.493935\n",
      "4      No      No   785.655883  38463.495879\n"
     ]
    }
   ],
   "source": [
    "url = 'https://raw.githubusercontent.com/RAhyunki/dataset/main/Default.csv' # github에 있는 raw파일 로드\n",
    "Default = pd.read_csv(url) # credit dataframe에 저장\n",
    "print(Default.shape)\n",
    "print(Default.head())"
   ]
  },
  {
   "cell_type": "code",
   "execution_count": 11,
   "metadata": {},
   "outputs": [
    {
     "name": "stdout",
     "output_type": "stream",
     "text": [
      "<class 'pandas.core.frame.DataFrame'>\n",
      "RangeIndex: 10000 entries, 0 to 9999\n",
      "Data columns (total 4 columns):\n",
      " #   Column   Non-Null Count  Dtype  \n",
      "---  ------   --------------  -----  \n",
      " 0   default  10000 non-null  int32  \n",
      " 1   student  10000 non-null  int32  \n",
      " 2   balance  10000 non-null  float64\n",
      " 3   income   10000 non-null  float64\n",
      "dtypes: float64(2), int32(2)\n",
      "memory usage: 234.5 KB\n"
     ]
    }
   ],
   "source": [
    "#Series객체1.where(Series객체에 대한 조건문, 거짓 값에 대한 대체 값)\n",
    "#np.where(배열에 대한 조건문, 참일때 값, 거짓일때 값)의 형태로 사용하며 배열(array)로 반환한다.\n",
    "\n",
    "Default['default'] = pd.Series(np.where(Default.default.values == 'Yes', 1, 0), Default.index)\n",
    "Default['student'] = pd.Series(np.where(Default.student.values == 'Yes', 1, 0), Default.index)\n",
    "Default.info()"
   ]
  },
  {
   "cell_type": "code",
   "execution_count": 12,
   "metadata": {},
   "outputs": [
    {
     "data": {
      "text/html": [
       "<div>\n",
       "<style scoped>\n",
       "    .dataframe tbody tr th:only-of-type {\n",
       "        vertical-align: middle;\n",
       "    }\n",
       "\n",
       "    .dataframe tbody tr th {\n",
       "        vertical-align: top;\n",
       "    }\n",
       "\n",
       "    .dataframe thead th {\n",
       "        text-align: right;\n",
       "    }\n",
       "</style>\n",
       "<table border=\"1\" class=\"dataframe\">\n",
       "  <thead>\n",
       "    <tr style=\"text-align: right;\">\n",
       "      <th></th>\n",
       "      <th>default</th>\n",
       "      <th>student</th>\n",
       "      <th>balance</th>\n",
       "      <th>income</th>\n",
       "    </tr>\n",
       "  </thead>\n",
       "  <tbody>\n",
       "    <tr>\n",
       "      <th>0</th>\n",
       "      <td>0</td>\n",
       "      <td>0</td>\n",
       "      <td>729.526495</td>\n",
       "      <td>44361.625074</td>\n",
       "    </tr>\n",
       "    <tr>\n",
       "      <th>1</th>\n",
       "      <td>0</td>\n",
       "      <td>1</td>\n",
       "      <td>817.180407</td>\n",
       "      <td>12106.134700</td>\n",
       "    </tr>\n",
       "    <tr>\n",
       "      <th>2</th>\n",
       "      <td>0</td>\n",
       "      <td>0</td>\n",
       "      <td>1073.549164</td>\n",
       "      <td>31767.138947</td>\n",
       "    </tr>\n",
       "    <tr>\n",
       "      <th>3</th>\n",
       "      <td>0</td>\n",
       "      <td>0</td>\n",
       "      <td>529.250605</td>\n",
       "      <td>35704.493935</td>\n",
       "    </tr>\n",
       "    <tr>\n",
       "      <th>4</th>\n",
       "      <td>0</td>\n",
       "      <td>0</td>\n",
       "      <td>785.655883</td>\n",
       "      <td>38463.495879</td>\n",
       "    </tr>\n",
       "  </tbody>\n",
       "</table>\n",
       "</div>"
      ],
      "text/plain": [
       "   default  student      balance        income\n",
       "0        0        0   729.526495  44361.625074\n",
       "1        0        1   817.180407  12106.134700\n",
       "2        0        0  1073.549164  31767.138947\n",
       "3        0        0   529.250605  35704.493935\n",
       "4        0        0   785.655883  38463.495879"
      ]
     },
     "execution_count": 12,
     "metadata": {},
     "output_type": "execute_result"
    }
   ],
   "source": [
    "Default.head()"
   ]
  },
  {
   "cell_type": "code",
   "execution_count": 13,
   "metadata": {},
   "outputs": [],
   "source": [
    "X = np.array(Default.iloc[:, 1:3])\n",
    "y = np.array(Default.iloc[:, 0:1])"
   ]
  },
  {
   "cell_type": "markdown",
   "metadata": {},
   "source": [
    "# LDA / QDA / MultinomialNB(다항정규분포-베이즈분류)"
   ]
  },
  {
   "cell_type": "markdown",
   "metadata": {},
   "source": [
    "# LDA"
   ]
  },
  {
   "cell_type": "code",
   "execution_count": 14,
   "metadata": {},
   "outputs": [
    {
     "name": "stderr",
     "output_type": "stream",
     "text": [
      "C:\\Users\\ahdal\\anaconda3\\lib\\site-packages\\sklearn\\utils\\validation.py:72: DataConversionWarning: A column-vector y was passed when a 1d array was expected. Please change the shape of y to (n_samples, ), for example using ravel().\n",
      "  return f(**kwargs)\n"
     ]
    },
    {
     "data": {
      "text/plain": [
       "LinearDiscriminantAnalysis()"
      ]
     },
     "execution_count": 14,
     "metadata": {},
     "output_type": "execute_result"
    }
   ],
   "source": [
    "#from sklearn.discriminant_analysis import LinearDiscriminantAnalysis\n",
    "lda = LinearDiscriminantAnalysis()\n",
    "lda.fit(X, y)"
   ]
  },
  {
   "cell_type": "code",
   "execution_count": 16,
   "metadata": {
    "scrolled": false
   },
   "outputs": [
    {
     "name": "stderr",
     "output_type": "stream",
     "text": [
      "C:\\Users\\ahdal\\anaconda3\\lib\\site-packages\\sklearn\\utils\\validation.py:72: DataConversionWarning: A column-vector y was passed when a 1d array was expected. Please change the shape of y to (n_samples, ), for example using ravel().\n",
      "  return f(**kwargs)\n"
     ]
    }
   ],
   "source": [
    "y_predict = lda.fit(X, y).predict(X)"
   ]
  },
  {
   "cell_type": "code",
   "execution_count": 17,
   "metadata": {
    "scrolled": true
   },
   "outputs": [
    {
     "data": {
      "text/plain": [
       "0.9725"
      ]
     },
     "execution_count": 17,
     "metadata": {},
     "output_type": "execute_result"
    }
   ],
   "source": [
    "metrics.accuracy_score(y, y_predict)"
   ]
  },
  {
   "cell_type": "code",
   "execution_count": 18,
   "metadata": {},
   "outputs": [
    {
     "data": {
      "text/plain": [
       "array([[9644,   23],\n",
       "       [ 252,   81]], dtype=int64)"
      ]
     },
     "execution_count": 18,
     "metadata": {},
     "output_type": "execute_result"
    }
   ],
   "source": [
    "## Confusion matrix\n",
    "confusion_matrix(y,lda.predict(X))"
   ]
  },
  {
   "cell_type": "code",
   "execution_count": 19,
   "metadata": {
    "scrolled": true
   },
   "outputs": [
    {
     "data": {
      "text/html": [
       "<div>\n",
       "<style scoped>\n",
       "    .dataframe tbody tr th:only-of-type {\n",
       "        vertical-align: middle;\n",
       "    }\n",
       "\n",
       "    .dataframe tbody tr th {\n",
       "        vertical-align: top;\n",
       "    }\n",
       "\n",
       "    .dataframe thead th {\n",
       "        text-align: right;\n",
       "    }\n",
       "</style>\n",
       "<table border=\"1\" class=\"dataframe\">\n",
       "  <thead>\n",
       "    <tr style=\"text-align: right;\">\n",
       "      <th></th>\n",
       "      <th>Predict[NO]</th>\n",
       "      <th>Predict[Yes]</th>\n",
       "    </tr>\n",
       "  </thead>\n",
       "  <tbody>\n",
       "    <tr>\n",
       "      <th>True[No]</th>\n",
       "      <td>9644</td>\n",
       "      <td>23</td>\n",
       "    </tr>\n",
       "    <tr>\n",
       "      <th>True[Yes]</th>\n",
       "      <td>252</td>\n",
       "      <td>81</td>\n",
       "    </tr>\n",
       "  </tbody>\n",
       "</table>\n",
       "</div>"
      ],
      "text/plain": [
       "           Predict[NO]  Predict[Yes]\n",
       "True[No]          9644            23\n",
       "True[Yes]          252            81"
      ]
     },
     "execution_count": 19,
     "metadata": {},
     "output_type": "execute_result"
    }
   ],
   "source": [
    "cunfmat = pd.DataFrame(confusion_matrix(y, y_predict),\n",
    "                        index=['True[No]','True[Yes]',],\n",
    "                        columns=['Predict[NO]', 'Predict[Yes]']) # 순서가 중요\n",
    "cunfmat"
   ]
  },
  {
   "cell_type": "code",
   "execution_count": 20,
   "metadata": {},
   "outputs": [
    {
     "name": "stdout",
     "output_type": "stream",
     "text": [
      "              precision    recall  f1-score   support\n",
      "\n",
      "           0       0.97      1.00      0.99      9667\n",
      "           1       0.78      0.24      0.37       333\n",
      "\n",
      "    accuracy                           0.97     10000\n",
      "   macro avg       0.88      0.62      0.68     10000\n",
      "weighted avg       0.97      0.97      0.97     10000\n",
      "\n"
     ]
    }
   ],
   "source": [
    "#from sklearn.metrics import classification_report\n",
    "print(classification_report(y, y_predict))"
   ]
  },
  {
   "cell_type": "markdown",
   "metadata": {},
   "source": [
    "# QDA"
   ]
  },
  {
   "cell_type": "code",
   "execution_count": 21,
   "metadata": {
    "scrolled": false
   },
   "outputs": [
    {
     "name": "stderr",
     "output_type": "stream",
     "text": [
      "C:\\Users\\ahdal\\anaconda3\\lib\\site-packages\\sklearn\\utils\\validation.py:72: DataConversionWarning: A column-vector y was passed when a 1d array was expected. Please change the shape of y to (n_samples, ), for example using ravel().\n",
      "  return f(**kwargs)\n"
     ]
    },
    {
     "data": {
      "text/plain": [
       "QuadraticDiscriminantAnalysis()"
      ]
     },
     "execution_count": 21,
     "metadata": {},
     "output_type": "execute_result"
    }
   ],
   "source": [
    "#from sklearn.discriminant_analysis import QuadraticDiscriminantAnalysis\n",
    "qda=QuadraticDiscriminantAnalysis()\n",
    "qda.fit(X, y)"
   ]
  },
  {
   "cell_type": "code",
   "execution_count": 22,
   "metadata": {},
   "outputs": [
    {
     "name": "stderr",
     "output_type": "stream",
     "text": [
      "C:\\Users\\ahdal\\anaconda3\\lib\\site-packages\\sklearn\\utils\\validation.py:72: DataConversionWarning: A column-vector y was passed when a 1d array was expected. Please change the shape of y to (n_samples, ), for example using ravel().\n",
      "  return f(**kwargs)\n"
     ]
    }
   ],
   "source": [
    "y_predict = qda.fit(X, y).predict(X)"
   ]
  },
  {
   "cell_type": "code",
   "execution_count": 23,
   "metadata": {},
   "outputs": [
    {
     "data": {
      "text/plain": [
       "array([[9637,   30],\n",
       "       [ 244,   89]], dtype=int64)"
      ]
     },
     "execution_count": 23,
     "metadata": {},
     "output_type": "execute_result"
    }
   ],
   "source": [
    "## Confusion matrix\n",
    "confusion_matrix(y,qda.predict(X))"
   ]
  },
  {
   "cell_type": "code",
   "execution_count": 24,
   "metadata": {},
   "outputs": [
    {
     "data": {
      "text/html": [
       "<div>\n",
       "<style scoped>\n",
       "    .dataframe tbody tr th:only-of-type {\n",
       "        vertical-align: middle;\n",
       "    }\n",
       "\n",
       "    .dataframe tbody tr th {\n",
       "        vertical-align: top;\n",
       "    }\n",
       "\n",
       "    .dataframe thead th {\n",
       "        text-align: right;\n",
       "    }\n",
       "</style>\n",
       "<table border=\"1\" class=\"dataframe\">\n",
       "  <thead>\n",
       "    <tr style=\"text-align: right;\">\n",
       "      <th></th>\n",
       "      <th>Predict[NO]</th>\n",
       "      <th>Predict[Yes]</th>\n",
       "    </tr>\n",
       "  </thead>\n",
       "  <tbody>\n",
       "    <tr>\n",
       "      <th>True[No]</th>\n",
       "      <td>9637</td>\n",
       "      <td>30</td>\n",
       "    </tr>\n",
       "    <tr>\n",
       "      <th>True[Yes]</th>\n",
       "      <td>244</td>\n",
       "      <td>89</td>\n",
       "    </tr>\n",
       "  </tbody>\n",
       "</table>\n",
       "</div>"
      ],
      "text/plain": [
       "           Predict[NO]  Predict[Yes]\n",
       "True[No]          9637            30\n",
       "True[Yes]          244            89"
      ]
     },
     "execution_count": 24,
     "metadata": {},
     "output_type": "execute_result"
    }
   ],
   "source": [
    "cunfmat = pd.DataFrame(confusion_matrix(y, y_predict),\n",
    "                        index=['True[No]','True[Yes]',],\n",
    "                        columns=['Predict[NO]', 'Predict[Yes]']) # 순서가 중요\n",
    "cunfmat"
   ]
  },
  {
   "cell_type": "code",
   "execution_count": 25,
   "metadata": {
    "scrolled": true
   },
   "outputs": [
    {
     "name": "stdout",
     "output_type": "stream",
     "text": [
      "              precision    recall  f1-score   support\n",
      "\n",
      "           0       0.98      1.00      0.99      9667\n",
      "           1       0.75      0.27      0.39       333\n",
      "\n",
      "    accuracy                           0.97     10000\n",
      "   macro avg       0.86      0.63      0.69     10000\n",
      "weighted avg       0.97      0.97      0.97     10000\n",
      "\n"
     ]
    }
   ],
   "source": [
    "#from sklearn.metrics import classification_report\n",
    "\n",
    "print(classification_report(y, y_predict))"
   ]
  },
  {
   "cell_type": "markdown",
   "metadata": {},
   "source": [
    "# NB"
   ]
  },
  {
   "cell_type": "code",
   "execution_count": 26,
   "metadata": {},
   "outputs": [],
   "source": [
    "#from sklearn.naive_bayes import MultinomialNB\n",
    "nb = MultinomialNB(alpha=1, fit_prior=True)"
   ]
  },
  {
   "cell_type": "code",
   "execution_count": 27,
   "metadata": {
    "scrolled": true
   },
   "outputs": [
    {
     "name": "stderr",
     "output_type": "stream",
     "text": [
      "C:\\Users\\ahdal\\anaconda3\\lib\\site-packages\\sklearn\\utils\\validation.py:72: DataConversionWarning: A column-vector y was passed when a 1d array was expected. Please change the shape of y to (n_samples, ), for example using ravel().\n",
      "  return f(**kwargs)\n"
     ]
    },
    {
     "data": {
      "text/plain": [
       "MultinomialNB(alpha=1)"
      ]
     },
     "execution_count": 27,
     "metadata": {},
     "output_type": "execute_result"
    }
   ],
   "source": [
    "nb.fit(X,y)"
   ]
  },
  {
   "cell_type": "code",
   "execution_count": 28,
   "metadata": {},
   "outputs": [],
   "source": [
    "y_predict = nb.predict(X)"
   ]
  },
  {
   "cell_type": "code",
   "execution_count": 29,
   "metadata": {},
   "outputs": [
    {
     "data": {
      "text/plain": [
       "array([[9667,    0],\n",
       "       [ 333,    0]], dtype=int64)"
      ]
     },
     "execution_count": 29,
     "metadata": {},
     "output_type": "execute_result"
    }
   ],
   "source": [
    "## Confusion matrix\n",
    "sum(nb.predict(X)==y)/len(y) ## 0.8222222222222222\n",
    "confusion_matrix(y, nb.predict(X))"
   ]
  },
  {
   "cell_type": "code",
   "execution_count": 30,
   "metadata": {},
   "outputs": [
    {
     "data": {
      "text/html": [
       "<div>\n",
       "<style scoped>\n",
       "    .dataframe tbody tr th:only-of-type {\n",
       "        vertical-align: middle;\n",
       "    }\n",
       "\n",
       "    .dataframe tbody tr th {\n",
       "        vertical-align: top;\n",
       "    }\n",
       "\n",
       "    .dataframe thead th {\n",
       "        text-align: right;\n",
       "    }\n",
       "</style>\n",
       "<table border=\"1\" class=\"dataframe\">\n",
       "  <thead>\n",
       "    <tr style=\"text-align: right;\">\n",
       "      <th></th>\n",
       "      <th>Predict[NO]</th>\n",
       "      <th>Predict[Yes]</th>\n",
       "    </tr>\n",
       "  </thead>\n",
       "  <tbody>\n",
       "    <tr>\n",
       "      <th>True[No]</th>\n",
       "      <td>9667</td>\n",
       "      <td>0</td>\n",
       "    </tr>\n",
       "    <tr>\n",
       "      <th>True[Yes]</th>\n",
       "      <td>333</td>\n",
       "      <td>0</td>\n",
       "    </tr>\n",
       "  </tbody>\n",
       "</table>\n",
       "</div>"
      ],
      "text/plain": [
       "           Predict[NO]  Predict[Yes]\n",
       "True[No]          9667             0\n",
       "True[Yes]          333             0"
      ]
     },
     "execution_count": 30,
     "metadata": {},
     "output_type": "execute_result"
    }
   ],
   "source": [
    "cunfmat = pd.DataFrame(confusion_matrix(y, y_predict),\n",
    "                        index=['True[No]','True[Yes]',],\n",
    "                        columns=['Predict[NO]', 'Predict[Yes]']) # 순서가 중요\n",
    "cunfmat"
   ]
  },
  {
   "cell_type": "markdown",
   "metadata": {},
   "source": [
    "# 시각화"
   ]
  },
  {
   "cell_type": "code",
   "execution_count": 31,
   "metadata": {},
   "outputs": [],
   "source": [
    "#from sklearn.datasets import make_classification"
   ]
  },
  {
   "cell_type": "code",
   "execution_count": 32,
   "metadata": {},
   "outputs": [
    {
     "name": "stderr",
     "output_type": "stream",
     "text": [
      "C:\\Users\\ahdal\\anaconda3\\lib\\site-packages\\sklearn\\utils\\validation.py:72: DataConversionWarning: A column-vector y was passed when a 1d array was expected. Please change the shape of y to (n_samples, ), for example using ravel().\n",
      "  return f(**kwargs)\n"
     ]
    }
   ],
   "source": [
    "#from sklearn.discriminant_analysis import LinearDiscriminantAnalysis\n",
    "\n",
    "model = LinearDiscriminantAnalysis().fit(X, y)\n",
    "y_hat = model.predict(X)\n",
    "f_value = model.decision_function(X)"
   ]
  },
  {
   "cell_type": "code",
   "execution_count": 33,
   "metadata": {},
   "outputs": [
    {
     "data": {
      "text/plain": [
       "array([[  81,  252],\n",
       "       [  23, 9644]], dtype=int64)"
      ]
     },
     "execution_count": 33,
     "metadata": {},
     "output_type": "execute_result"
    }
   ],
   "source": [
    "confusion_matrix(y, y_hat, labels=[1, 0])"
   ]
  },
  {
   "cell_type": "code",
   "execution_count": 34,
   "metadata": {},
   "outputs": [
    {
     "name": "stdout",
     "output_type": "stream",
     "text": [
      "recall = 0.24324324324324326\n",
      "fallout = 0.9976207716975277\n"
     ]
    }
   ],
   "source": [
    "recall = 81 / (81 + 252)\n",
    "fallout = 1- 23 / (23 + 9644)\n",
    "print(\"recall =\", recall)\n",
    "print(\"fallout =\", fallout)"
   ]
  },
  {
   "cell_type": "code",
   "execution_count": 35,
   "metadata": {},
   "outputs": [
    {
     "data": {
      "text/plain": [
       "(array([0.00000000e+00, 0.00000000e+00, 0.00000000e+00, 1.03444709e-04,\n",
       "        1.03444709e-04, 2.06889418e-04, 2.06889418e-04, 3.10334126e-04,\n",
       "        3.10334126e-04, 4.13778835e-04, 4.13778835e-04, 6.20668253e-04,\n",
       "        6.20668253e-04, 7.24112962e-04, 7.24112962e-04, 8.27557670e-04,\n",
       "        8.27557670e-04, 9.31002379e-04, 9.31002379e-04, 1.03444709e-03,\n",
       "        1.03444709e-03, 1.13789180e-03, 1.13789180e-03, 1.24133651e-03,\n",
       "        1.24133651e-03, 1.55167063e-03, 1.55167063e-03, 1.65511534e-03,\n",
       "        1.65511534e-03, 1.75856005e-03, 1.75856005e-03, 1.96544947e-03,\n",
       "        1.96544947e-03, 2.06889418e-03, 2.06889418e-03, 2.17233888e-03,\n",
       "        2.17233888e-03, 2.27578359e-03, 2.27578359e-03, 2.37922830e-03,\n",
       "        2.37922830e-03, 2.58611772e-03, 2.58611772e-03, 2.68956243e-03,\n",
       "        2.68956243e-03, 2.79300714e-03, 2.79300714e-03, 3.10334126e-03,\n",
       "        3.10334126e-03, 3.41367539e-03, 3.41367539e-03, 3.51712010e-03,\n",
       "        3.51712010e-03, 3.62056481e-03, 3.62056481e-03, 3.72400952e-03,\n",
       "        3.72400952e-03, 4.03434364e-03, 4.03434364e-03, 4.13778835e-03,\n",
       "        4.13778835e-03, 4.24123306e-03, 4.24123306e-03, 4.44812248e-03,\n",
       "        4.44812248e-03, 4.65501190e-03, 4.65501190e-03, 4.75845660e-03,\n",
       "        4.75845660e-03, 4.86190131e-03, 4.86190131e-03, 5.06879073e-03,\n",
       "        5.06879073e-03, 5.17223544e-03, 5.17223544e-03, 5.58601428e-03,\n",
       "        5.58601428e-03, 5.99979311e-03, 5.99979311e-03, 6.41357195e-03,\n",
       "        6.41357195e-03, 6.51701665e-03, 6.51701665e-03, 6.93079549e-03,\n",
       "        6.93079549e-03, 7.34457433e-03, 7.34457433e-03, 7.44801903e-03,\n",
       "        7.44801903e-03, 7.55146374e-03, 7.55146374e-03, 7.96524258e-03,\n",
       "        7.96524258e-03, 8.17213200e-03, 8.17213200e-03, 8.37902141e-03,\n",
       "        8.37902141e-03, 8.48246612e-03, 8.48246612e-03, 8.99968967e-03,\n",
       "        8.99968967e-03, 9.10313437e-03, 9.10313437e-03, 9.20657908e-03,\n",
       "        9.20657908e-03, 9.51691321e-03, 9.51691321e-03, 9.82724734e-03,\n",
       "        9.82724734e-03, 1.01375815e-02, 1.01375815e-02, 1.04479156e-02,\n",
       "        1.04479156e-02, 1.05513603e-02, 1.05513603e-02, 1.06548050e-02,\n",
       "        1.06548050e-02, 1.07582497e-02, 1.07582497e-02, 1.09651391e-02,\n",
       "        1.09651391e-02, 1.11720286e-02, 1.11720286e-02, 1.14823627e-02,\n",
       "        1.14823627e-02, 1.16892521e-02, 1.16892521e-02, 1.22064756e-02,\n",
       "        1.22064756e-02, 1.35512569e-02, 1.35512569e-02, 1.37581463e-02,\n",
       "        1.37581463e-02, 1.47925934e-02, 1.47925934e-02, 1.51029275e-02,\n",
       "        1.51029275e-02, 1.53098169e-02, 1.53098169e-02, 1.57235957e-02,\n",
       "        1.57235957e-02, 1.69649322e-02, 1.69649322e-02, 1.71718217e-02,\n",
       "        1.71718217e-02, 1.73787111e-02, 1.73787111e-02, 1.83097135e-02,\n",
       "        1.83097135e-02, 1.86200476e-02, 1.86200476e-02, 1.88269370e-02,\n",
       "        1.88269370e-02, 1.91372711e-02, 1.91372711e-02, 1.94476053e-02,\n",
       "        1.94476053e-02, 2.13096100e-02, 2.13096100e-02, 2.21371677e-02,\n",
       "        2.21371677e-02, 2.22406124e-02, 2.22406124e-02, 2.33785042e-02,\n",
       "        2.33785042e-02, 2.38957277e-02, 2.38957277e-02, 2.42060619e-02,\n",
       "        2.42060619e-02, 2.43095066e-02, 2.43095066e-02, 2.46198407e-02,\n",
       "        2.46198407e-02, 2.49301748e-02, 2.49301748e-02, 2.61715113e-02,\n",
       "        2.61715113e-02, 2.64818455e-02, 2.64818455e-02, 2.65852902e-02,\n",
       "        2.65852902e-02, 2.69990690e-02, 2.69990690e-02, 2.71025137e-02,\n",
       "        2.71025137e-02, 2.79300714e-02, 2.79300714e-02, 2.89645185e-02,\n",
       "        2.89645185e-02, 2.92748526e-02, 2.92748526e-02, 2.96886314e-02,\n",
       "        2.96886314e-02, 2.99989656e-02, 2.99989656e-02, 3.09299679e-02,\n",
       "        3.09299679e-02, 3.10334126e-02, 3.10334126e-02, 3.17575256e-02,\n",
       "        3.17575256e-02, 3.20678597e-02, 3.20678597e-02, 3.25850833e-02,\n",
       "        3.25850833e-02, 3.26885280e-02, 3.26885280e-02, 3.36195304e-02,\n",
       "        3.36195304e-02, 3.38264198e-02, 3.38264198e-02, 3.51712010e-02,\n",
       "        3.51712010e-02, 3.54815351e-02, 3.54815351e-02, 3.63090928e-02,\n",
       "        3.63090928e-02, 3.76538740e-02, 3.76538740e-02, 3.79642081e-02,\n",
       "        3.79642081e-02, 3.80676528e-02, 3.80676528e-02, 3.92055446e-02,\n",
       "        3.92055446e-02, 4.00331023e-02, 4.00331023e-02, 4.03434364e-02,\n",
       "        4.03434364e-02, 4.06537706e-02, 4.06537706e-02, 4.15847729e-02,\n",
       "        4.15847729e-02, 4.23088859e-02, 4.23088859e-02, 4.24123306e-02,\n",
       "        4.24123306e-02, 4.25157753e-02, 4.25157753e-02, 4.40674460e-02,\n",
       "        4.40674460e-02, 4.51018930e-02, 4.51018930e-02, 4.57225613e-02,\n",
       "        4.57225613e-02, 4.62397848e-02, 4.62397848e-02, 4.81017896e-02,\n",
       "        4.81017896e-02, 4.88259026e-02, 4.88259026e-02, 4.89293473e-02,\n",
       "        4.89293473e-02, 4.90327920e-02, 4.90327920e-02, 5.22395779e-02,\n",
       "        5.22395779e-02, 5.29636909e-02, 5.29636909e-02, 5.34809145e-02,\n",
       "        5.34809145e-02, 5.43084721e-02, 5.43084721e-02, 5.47222510e-02,\n",
       "        5.47222510e-02, 5.50325851e-02, 5.50325851e-02, 5.66877004e-02,\n",
       "        5.66877004e-02, 5.94807076e-02, 5.94807076e-02, 6.18599359e-02,\n",
       "        6.18599359e-02, 6.26874935e-02, 6.26874935e-02, 6.63080583e-02,\n",
       "        6.63080583e-02, 6.73425054e-02, 6.73425054e-02, 6.74459501e-02,\n",
       "        6.74459501e-02, 6.81700631e-02, 6.81700631e-02, 6.82735078e-02,\n",
       "        6.82735078e-02, 6.85838419e-02, 6.85838419e-02, 7.29285197e-02,\n",
       "        7.29285197e-02, 7.35491880e-02, 7.35491880e-02, 7.44801903e-02,\n",
       "        7.44801903e-02, 7.52043033e-02, 7.52043033e-02, 7.59284163e-02,\n",
       "        7.59284163e-02, 7.74800869e-02, 7.74800869e-02, 7.77904210e-02,\n",
       "        7.77904210e-02, 7.93420917e-02, 7.93420917e-02, 8.11006517e-02,\n",
       "        8.11006517e-02, 8.24454329e-02, 8.24454329e-02, 8.64797766e-02,\n",
       "        8.64797766e-02, 8.79280025e-02, 8.79280025e-02, 8.83417813e-02,\n",
       "        8.83417813e-02, 8.90658943e-02, 8.90658943e-02, 8.92727837e-02,\n",
       "        8.92727837e-02, 9.24795697e-02, 9.24795697e-02, 9.31002379e-02,\n",
       "        9.31002379e-02, 9.41346850e-02, 9.41346850e-02, 9.52725768e-02,\n",
       "        9.52725768e-02, 9.59966898e-02, 9.59966898e-02, 9.64104686e-02,\n",
       "        9.64104686e-02, 9.92034757e-02, 9.92034757e-02, 1.00031033e-01,\n",
       "        1.00031033e-01, 1.00134478e-01, 1.00134478e-01, 1.00755146e-01,\n",
       "        1.00755146e-01, 1.06341161e-01, 1.06341161e-01, 1.10065170e-01,\n",
       "        1.10065170e-01, 1.13271956e-01, 1.13271956e-01, 1.15444295e-01,\n",
       "        1.15444295e-01, 1.16271853e-01, 1.16271853e-01, 1.18237302e-01,\n",
       "        1.18237302e-01, 1.18754526e-01, 1.18754526e-01, 1.19064860e-01,\n",
       "        1.19064860e-01, 1.19995862e-01, 1.19995862e-01, 1.22168201e-01,\n",
       "        1.22168201e-01, 1.22995759e-01, 1.22995759e-01, 1.28167994e-01,\n",
       "        1.28167994e-01, 1.32616117e-01, 1.32616117e-01, 1.33236785e-01,\n",
       "        1.33236785e-01, 1.33340230e-01, 1.33340230e-01, 1.34374677e-01,\n",
       "        1.34374677e-01, 1.39236578e-01, 1.39236578e-01, 1.48132823e-01,\n",
       "        1.48132823e-01, 1.54649840e-01, 1.54649840e-01, 1.56304955e-01,\n",
       "        1.56304955e-01, 1.61580635e-01, 1.61580635e-01, 1.64787421e-01,\n",
       "        1.64787421e-01, 1.73683666e-01, 1.73683666e-01, 1.93027827e-01,\n",
       "        1.93027827e-01, 1.93131271e-01, 1.93131271e-01, 1.97786283e-01,\n",
       "        1.97786283e-01, 1.99958622e-01, 1.99958622e-01, 2.00889624e-01,\n",
       "        2.00889624e-01, 2.01096514e-01, 2.01096514e-01, 2.14958105e-01,\n",
       "        2.14958105e-01, 2.20647564e-01, 2.20647564e-01, 2.25509465e-01,\n",
       "        2.25509465e-01, 2.26026689e-01, 2.26026689e-01, 2.28095583e-01,\n",
       "        2.28095583e-01, 2.30164477e-01, 2.30164477e-01, 2.32854040e-01,\n",
       "        2.32854040e-01, 2.44336402e-01, 2.44336402e-01, 2.66577015e-01,\n",
       "        2.66577015e-01, 2.93989862e-01, 2.93989862e-01, 2.95748422e-01,\n",
       "        2.95748422e-01, 3.08058343e-01, 3.08058343e-01, 3.19851040e-01,\n",
       "        3.19851040e-01, 3.42815765e-01, 3.42815765e-01, 3.44988104e-01,\n",
       "        3.44988104e-01, 3.92262336e-01, 3.92262336e-01, 4.90431364e-01,\n",
       "        4.90431364e-01, 5.57153202e-01, 5.57153202e-01, 5.95944967e-01,\n",
       "        5.95944967e-01, 9.44243302e-01, 9.89034861e-01, 9.93172649e-01,\n",
       "        1.00000000e+00]),\n",
       " array([0.        , 0.003003  , 0.01501502, 0.01501502, 0.02702703,\n",
       "        0.02702703, 0.03003003, 0.03003003, 0.05405405, 0.05405405,\n",
       "        0.09009009, 0.09009009, 0.0960961 , 0.0960961 , 0.1021021 ,\n",
       "        0.1021021 , 0.13813814, 0.13813814, 0.15615616, 0.15615616,\n",
       "        0.15915916, 0.15915916, 0.16216216, 0.16216216, 0.17717718,\n",
       "        0.17717718, 0.18918919, 0.18918919, 0.20720721, 0.20720721,\n",
       "        0.21321321, 0.21321321, 0.21621622, 0.21621622, 0.23123123,\n",
       "        0.23123123, 0.23423423, 0.23423423, 0.24324324, 0.24324324,\n",
       "        0.24624625, 0.24624625, 0.26426426, 0.26426426, 0.27327327,\n",
       "        0.27327327, 0.27627628, 0.27627628, 0.28228228, 0.28228228,\n",
       "        0.28828829, 0.28828829, 0.29129129, 0.29129129, 0.3033033 ,\n",
       "        0.3033033 , 0.31531532, 0.31531532, 0.31831832, 0.31831832,\n",
       "        0.32432432, 0.32432432, 0.32732733, 0.32732733, 0.33033033,\n",
       "        0.33033033, 0.33333333, 0.33333333, 0.33633634, 0.33633634,\n",
       "        0.34234234, 0.34234234, 0.35735736, 0.35735736, 0.36036036,\n",
       "        0.36036036, 0.36636637, 0.36636637, 0.37237237, 0.37237237,\n",
       "        0.37837838, 0.37837838, 0.38138138, 0.38138138, 0.38438438,\n",
       "        0.38438438, 0.39039039, 0.39039039, 0.39339339, 0.39339339,\n",
       "        0.3963964 , 0.3963964 , 0.3993994 , 0.3993994 , 0.4024024 ,\n",
       "        0.4024024 , 0.42042042, 0.42042042, 0.42342342, 0.42342342,\n",
       "        0.42642643, 0.42642643, 0.42942943, 0.42942943, 0.43543544,\n",
       "        0.43543544, 0.45045045, 0.45045045, 0.45345345, 0.45345345,\n",
       "        0.45645646, 0.45645646, 0.45945946, 0.45945946, 0.46246246,\n",
       "        0.46246246, 0.46846847, 0.46846847, 0.47147147, 0.47147147,\n",
       "        0.48048048, 0.48048048, 0.48348348, 0.48348348, 0.48648649,\n",
       "        0.48648649, 0.4954955 , 0.4954955 , 0.5015015 , 0.5015015 ,\n",
       "        0.5045045 , 0.5045045 , 0.50750751, 0.50750751, 0.51051051,\n",
       "        0.51051051, 0.51351351, 0.51351351, 0.51651652, 0.51651652,\n",
       "        0.51951952, 0.51951952, 0.52252252, 0.52252252, 0.52852853,\n",
       "        0.52852853, 0.53153153, 0.53153153, 0.53753754, 0.53753754,\n",
       "        0.54054054, 0.54054054, 0.54954955, 0.54954955, 0.55255255,\n",
       "        0.55255255, 0.55555556, 0.55555556, 0.56156156, 0.56156156,\n",
       "        0.56456456, 0.56456456, 0.57057057, 0.57057057, 0.57657658,\n",
       "        0.57657658, 0.57957958, 0.57957958, 0.58258258, 0.58258258,\n",
       "        0.58558559, 0.58558559, 0.58858859, 0.58858859, 0.59159159,\n",
       "        0.59159159, 0.59459459, 0.59459459, 0.5975976 , 0.5975976 ,\n",
       "        0.6006006 , 0.6006006 , 0.6036036 , 0.6036036 , 0.60660661,\n",
       "        0.60660661, 0.60960961, 0.60960961, 0.61261261, 0.61261261,\n",
       "        0.61561562, 0.61561562, 0.61861862, 0.61861862, 0.62162162,\n",
       "        0.62162162, 0.62462462, 0.62462462, 0.62762763, 0.62762763,\n",
       "        0.63063063, 0.63063063, 0.63363363, 0.63363363, 0.63663664,\n",
       "        0.63663664, 0.63963964, 0.63963964, 0.64264264, 0.64264264,\n",
       "        0.64564565, 0.64564565, 0.64864865, 0.64864865, 0.65165165,\n",
       "        0.65165165, 0.65465465, 0.65465465, 0.65765766, 0.65765766,\n",
       "        0.66066066, 0.66066066, 0.66366366, 0.66366366, 0.66666667,\n",
       "        0.66666667, 0.66966967, 0.66966967, 0.67267267, 0.67267267,\n",
       "        0.67567568, 0.67567568, 0.67867868, 0.67867868, 0.68168168,\n",
       "        0.68168168, 0.68468468, 0.68468468, 0.68768769, 0.68768769,\n",
       "        0.69069069, 0.69069069, 0.6966967 , 0.6966967 , 0.7027027 ,\n",
       "        0.7027027 , 0.70570571, 0.70570571, 0.70870871, 0.70870871,\n",
       "        0.71171171, 0.71171171, 0.71471471, 0.71471471, 0.71771772,\n",
       "        0.71771772, 0.72072072, 0.72072072, 0.72372372, 0.72372372,\n",
       "        0.72672673, 0.72672673, 0.72972973, 0.72972973, 0.73573574,\n",
       "        0.73573574, 0.73873874, 0.73873874, 0.74174174, 0.74174174,\n",
       "        0.75075075, 0.75075075, 0.75375375, 0.75375375, 0.75675676,\n",
       "        0.75675676, 0.75975976, 0.75975976, 0.76276276, 0.76276276,\n",
       "        0.76576577, 0.76576577, 0.76876877, 0.76876877, 0.77177177,\n",
       "        0.77177177, 0.77477477, 0.77477477, 0.77777778, 0.77777778,\n",
       "        0.78078078, 0.78078078, 0.78378378, 0.78378378, 0.78678679,\n",
       "        0.78678679, 0.78978979, 0.78978979, 0.79279279, 0.79279279,\n",
       "        0.7957958 , 0.7957958 , 0.7987988 , 0.7987988 , 0.8018018 ,\n",
       "        0.8018018 , 0.8048048 , 0.8048048 , 0.81081081, 0.81081081,\n",
       "        0.81381381, 0.81381381, 0.81681682, 0.81681682, 0.81981982,\n",
       "        0.81981982, 0.82282282, 0.82282282, 0.82582583, 0.82582583,\n",
       "        0.82882883, 0.82882883, 0.83183183, 0.83183183, 0.83483483,\n",
       "        0.83483483, 0.83783784, 0.83783784, 0.84084084, 0.84084084,\n",
       "        0.84384384, 0.84384384, 0.84684685, 0.84684685, 0.84984985,\n",
       "        0.84984985, 0.85285285, 0.85285285, 0.85585586, 0.85585586,\n",
       "        0.85885886, 0.85885886, 0.86186186, 0.86186186, 0.86486486,\n",
       "        0.86486486, 0.86786787, 0.86786787, 0.87087087, 0.87087087,\n",
       "        0.87387387, 0.87387387, 0.87687688, 0.87687688, 0.87987988,\n",
       "        0.87987988, 0.88288288, 0.88288288, 0.88588589, 0.88588589,\n",
       "        0.88888889, 0.88888889, 0.89189189, 0.89189189, 0.89489489,\n",
       "        0.89489489, 0.8978979 , 0.8978979 , 0.9009009 , 0.9009009 ,\n",
       "        0.9039039 , 0.9039039 , 0.90690691, 0.90690691, 0.90990991,\n",
       "        0.90990991, 0.91291291, 0.91291291, 0.91591592, 0.91591592,\n",
       "        0.91891892, 0.91891892, 0.92192192, 0.92192192, 0.92492492,\n",
       "        0.92492492, 0.92792793, 0.92792793, 0.93093093, 0.93093093,\n",
       "        0.93393393, 0.93393393, 0.93693694, 0.93693694, 0.93993994,\n",
       "        0.93993994, 0.94294294, 0.94294294, 0.94594595, 0.94594595,\n",
       "        0.94894895, 0.94894895, 0.95195195, 0.95195195, 0.95495495,\n",
       "        0.95495495, 0.95795796, 0.95795796, 0.96096096, 0.96096096,\n",
       "        0.96396396, 0.96396396, 0.96696697, 0.96696697, 0.96996997,\n",
       "        0.96996997, 0.97297297, 0.97297297, 0.97597598, 0.97597598,\n",
       "        0.97897898, 0.97897898, 0.98498498, 0.98498498, 0.98798799,\n",
       "        0.98798799, 0.99099099, 0.99099099, 0.99399399, 0.99399399,\n",
       "        0.996997  , 0.996997  , 1.        , 1.        , 1.        ,\n",
       "        1.        , 1.        ]),\n",
       " array([ 3.76985989e+00,  2.76985989e+00,  2.05650843e+00,  2.05317900e+00,\n",
       "         1.57051774e+00,  1.51781281e+00,  1.51377114e+00,  1.43449750e+00,\n",
       "         1.16620203e+00,  1.14485097e+00,  8.00248167e-01,  7.09403049e-01,\n",
       "         6.68331078e-01,  6.66010864e-01,  6.59865507e-01,  6.26223399e-01,\n",
       "         5.09518188e-01,  4.90297068e-01,  3.96714429e-01,  3.94247054e-01,\n",
       "         3.92252400e-01,  3.87782525e-01,  3.76704011e-01,  3.71538735e-01,\n",
       "         3.25405234e-01,  2.95914310e-01,  2.53546768e-01,  2.50594930e-01,\n",
       "         2.09191396e-01,  2.00454859e-01,  1.74469675e-01,  1.26673618e-01,\n",
       "         1.26498326e-01,  1.08188376e-01,  8.28187681e-02,  7.66699498e-02,\n",
       "         7.23568588e-02,  5.06531854e-02,  5.47665444e-03,  4.68259293e-03,\n",
       "        -1.07575552e-03, -6.30282574e-02, -1.31546289e-01, -1.33203180e-01,\n",
       "        -1.49281731e-01, -1.51332827e-01, -1.61450453e-01, -1.84549899e-01,\n",
       "        -1.92271324e-01, -2.21916205e-01, -2.39425029e-01, -2.40079044e-01,\n",
       "        -2.44384452e-01, -2.46562981e-01, -2.70490864e-01, -2.86040589e-01,\n",
       "        -3.05605492e-01, -3.36275069e-01, -3.60640798e-01, -3.64335971e-01,\n",
       "        -3.87150903e-01, -4.15190366e-01, -4.18336957e-01, -4.38650582e-01,\n",
       "        -4.39858774e-01, -4.41585671e-01, -4.50002955e-01, -4.52196200e-01,\n",
       "        -4.59363597e-01, -4.61169307e-01, -4.70233215e-01, -4.98356027e-01,\n",
       "        -5.23165796e-01, -5.42124326e-01, -5.44245214e-01, -5.64710585e-01,\n",
       "        -5.68824424e-01, -5.91892701e-01, -6.09065799e-01, -6.12822957e-01,\n",
       "        -6.15914580e-01, -6.16360878e-01, -6.17008117e-01, -6.31490897e-01,\n",
       "        -6.36554602e-01, -6.47259712e-01, -6.54651940e-01, -6.55040399e-01,\n",
       "        -6.55724610e-01, -6.56459017e-01, -6.56480923e-01, -6.68716163e-01,\n",
       "        -6.82841459e-01, -6.90938512e-01, -6.90958158e-01, -6.95519528e-01,\n",
       "        -7.24089519e-01, -7.32852795e-01, -7.37613084e-01, -7.58671520e-01,\n",
       "        -7.64742439e-01, -7.70932425e-01, -7.70976263e-01, -7.76670705e-01,\n",
       "        -7.81578901e-01, -7.90786289e-01, -8.11534207e-01, -8.28584731e-01,\n",
       "        -8.28897341e-01, -8.48324140e-01, -8.54804829e-01, -8.66887468e-01,\n",
       "        -8.67859233e-01, -8.76988060e-01, -8.82201783e-01, -8.87098027e-01,\n",
       "        -8.97154610e-01, -8.97189987e-01, -8.98443930e-01, -9.03504297e-01,\n",
       "        -9.25919907e-01, -9.31356610e-01, -9.32503048e-01, -9.43906170e-01,\n",
       "        -9.47814314e-01, -9.54942215e-01, -9.71809718e-01, -9.94787625e-01,\n",
       "        -1.00035905e+00, -1.03808557e+00, -1.03841809e+00, -1.04303337e+00,\n",
       "        -1.04850373e+00, -1.07611869e+00, -1.07902747e+00, -1.08289997e+00,\n",
       "        -1.08846008e+00, -1.09570207e+00, -1.09670344e+00, -1.11523795e+00,\n",
       "        -1.11722991e+00, -1.14375994e+00, -1.14499713e+00, -1.15358160e+00,\n",
       "        -1.15680202e+00, -1.15920006e+00, -1.16481290e+00, -1.18959690e+00,\n",
       "        -1.19471790e+00, -1.20244616e+00, -1.20306228e+00, -1.20661040e+00,\n",
       "        -1.21658130e+00, -1.22240944e+00, -1.22271335e+00, -1.22838197e+00,\n",
       "        -1.23058736e+00, -1.29424073e+00, -1.29864515e+00, -1.31892165e+00,\n",
       "        -1.32226868e+00, -1.32625371e+00, -1.32911284e+00, -1.35643199e+00,\n",
       "        -1.35770032e+00, -1.36644550e+00, -1.36819024e+00, -1.37543809e+00,\n",
       "        -1.37746774e+00, -1.38181897e+00, -1.38571280e+00, -1.38904250e+00,\n",
       "        -1.39056905e+00, -1.40435102e+00, -1.40558567e+00, -1.42854075e+00,\n",
       "        -1.43003681e+00, -1.43646475e+00, -1.43993461e+00, -1.44008112e+00,\n",
       "        -1.44481251e+00, -1.45428671e+00, -1.45770467e+00, -1.46260925e+00,\n",
       "        -1.46653291e+00, -1.48996076e+00, -1.49056538e+00, -1.50458350e+00,\n",
       "        -1.51322739e+00, -1.51782177e+00, -1.51924186e+00, -1.52730985e+00,\n",
       "        -1.52778849e+00, -1.54265748e+00, -1.54298574e+00, -1.55687277e+00,\n",
       "        -1.56212912e+00, -1.56583329e+00, -1.56647241e+00, -1.59219114e+00,\n",
       "        -1.59500704e+00, -1.60037168e+00, -1.60214056e+00, -1.61465356e+00,\n",
       "        -1.61620743e+00, -1.61754296e+00, -1.61865160e+00, -1.62752684e+00,\n",
       "        -1.62899081e+00, -1.63784681e+00, -1.64344066e+00, -1.67595299e+00,\n",
       "        -1.67728236e+00, -1.68183966e+00, -1.68234256e+00, -1.69696010e+00,\n",
       "        -1.69803665e+00, -1.72030087e+00, -1.72194808e+00, -1.73016178e+00,\n",
       "        -1.73146965e+00, -1.73448901e+00, -1.73510514e+00, -1.76551593e+00,\n",
       "        -1.76747980e+00, -1.78257160e+00, -1.78328478e+00, -1.79587688e+00,\n",
       "        -1.79806682e+00, -1.80626446e+00, -1.80669236e+00, -1.81962075e+00,\n",
       "        -1.82034122e+00, -1.83735808e+00, -1.83951369e+00, -1.84094848e+00,\n",
       "        -1.84279392e+00, -1.84358453e+00, -1.84459724e+00, -1.86274461e+00,\n",
       "        -1.86337270e+00, -1.88039257e+00, -1.88089442e+00, -1.89835277e+00,\n",
       "        -1.90368304e+00, -1.90743013e+00, -1.91261761e+00, -1.96625079e+00,\n",
       "        -1.96757649e+00, -1.98355511e+00, -1.98633023e+00, -1.98803950e+00,\n",
       "        -1.98919911e+00, -1.99553320e+00, -1.99561251e+00, -2.05410692e+00,\n",
       "        -2.05876461e+00, -2.06471201e+00, -2.06498669e+00, -2.08251897e+00,\n",
       "        -2.08378178e+00, -2.09726554e+00, -2.09771459e+00, -2.10702639e+00,\n",
       "        -2.11097027e+00, -2.11443919e+00, -2.11603257e+00, -2.15675941e+00,\n",
       "        -2.15688141e+00, -2.18847128e+00, -2.19264449e+00, -2.23897486e+00,\n",
       "        -2.24131467e+00, -2.24850816e+00, -2.24890879e+00, -2.29955476e+00,\n",
       "        -2.30206577e+00, -2.31769681e+00, -2.31769885e+00, -2.31794678e+00,\n",
       "        -2.32803753e+00, -2.33776006e+00, -2.34085866e+00, -2.34139755e+00,\n",
       "        -2.34205403e+00, -2.34242494e+00, -2.34282447e+00, -2.40416222e+00,\n",
       "        -2.40946513e+00, -2.42003703e+00, -2.42040825e+00, -2.43643278e+00,\n",
       "        -2.43801400e+00, -2.44823884e+00, -2.44828744e+00, -2.45689281e+00,\n",
       "        -2.45768472e+00, -2.47956110e+00, -2.48160137e+00, -2.48889573e+00,\n",
       "        -2.49154281e+00, -2.51648039e+00, -2.51671497e+00, -2.55126020e+00,\n",
       "        -2.55147788e+00, -2.56596853e+00, -2.56913960e+00, -2.62331020e+00,\n",
       "        -2.62593758e+00, -2.64003271e+00, -2.64025644e+00, -2.64360465e+00,\n",
       "        -2.64364812e+00, -2.64994532e+00, -2.65015168e+00, -2.65101482e+00,\n",
       "        -2.65623063e+00, -2.68285779e+00, -2.68881269e+00, -2.69294360e+00,\n",
       "        -2.69354109e+00, -2.70443593e+00, -2.70559943e+00, -2.71340253e+00,\n",
       "        -2.71383527e+00, -2.72139006e+00, -2.72160374e+00, -2.72621136e+00,\n",
       "        -2.72891405e+00, -2.77086649e+00, -2.77777650e+00, -2.78672113e+00,\n",
       "        -2.78729275e+00, -2.78769779e+00, -2.78884197e+00, -2.79513267e+00,\n",
       "        -2.79519283e+00, -2.83998727e+00, -2.84121291e+00, -2.88008452e+00,\n",
       "        -2.88044873e+00, -2.91144343e+00, -2.91173244e+00, -2.92655400e+00,\n",
       "        -2.92691183e+00, -2.94299614e+00, -2.94334614e+00, -2.96805342e+00,\n",
       "        -2.96811240e+00, -2.97195667e+00, -2.97236587e+00, -2.97458734e+00,\n",
       "        -2.97483939e+00, -2.98586077e+00, -2.98604379e+00, -3.00583637e+00,\n",
       "        -3.00607330e+00, -3.01433075e+00, -3.01533561e+00, -3.06617089e+00,\n",
       "        -3.06640157e+00, -3.11373630e+00, -3.11487735e+00, -3.12010805e+00,\n",
       "        -3.12020333e+00, -3.12045606e+00, -3.12049400e+00, -3.13110445e+00,\n",
       "        -3.13380382e+00, -3.18073890e+00, -3.18084555e+00, -3.27283857e+00,\n",
       "        -3.27325012e+00, -3.32257888e+00, -3.32274094e+00, -3.34408053e+00,\n",
       "        -3.34480639e+00, -3.38852290e+00, -3.38927161e+00, -3.42564211e+00,\n",
       "        -3.42613598e+00, -3.49986549e+00, -3.49999285e+00, -3.65156318e+00,\n",
       "        -3.65189131e+00, -3.65234914e+00, -3.65244595e+00, -3.68825009e+00,\n",
       "        -3.68989176e+00, -3.70529147e+00, -3.70588854e+00, -3.71052666e+00,\n",
       "        -3.71098283e+00, -3.71110739e+00, -3.71180974e+00, -3.81464167e+00,\n",
       "        -3.81464304e+00, -3.85478383e+00, -3.85525613e+00, -3.89364172e+00,\n",
       "        -3.89474857e+00, -3.89918675e+00, -3.89943337e+00, -3.91312106e+00,\n",
       "        -3.91439365e+00, -3.92990914e+00, -3.93029047e+00, -3.95002834e+00,\n",
       "        -3.95035468e+00, -4.02345597e+00, -4.02456282e+00, -4.17584512e+00,\n",
       "        -4.17591770e+00, -4.35518262e+00, -4.35523155e+00, -4.36612475e+00,\n",
       "        -4.36656120e+00, -4.45277495e+00, -4.45418977e+00, -4.53044986e+00,\n",
       "        -4.53071045e+00, -4.66932867e+00, -4.67173023e+00, -4.68262931e+00,\n",
       "        -4.68268958e+00, -4.94962575e+00, -4.95042060e+00, -5.52241124e+00,\n",
       "        -5.52469940e+00, -5.90857216e+00, -5.90859616e+00, -6.12565058e+00,\n",
       "        -6.12579548e+00, -9.19476601e+00, -9.19487805e+00, -9.70933399e+00,\n",
       "        -9.71691347e+00]))"
      ]
     },
     "execution_count": 35,
     "metadata": {},
     "output_type": "execute_result"
    }
   ],
   "source": [
    "#from sklearn.metrics import roc_curve\n",
    "\n",
    "fpr, tpr, thresholds = roc_curve(y, model.decision_function(X))\n",
    "fpr, tpr, thresholds"
   ]
  },
  {
   "cell_type": "code",
   "execution_count": 36,
   "metadata": {},
   "outputs": [],
   "source": [
    "#fpr, tpr, thresholds = roc_curve(y, model.predict_proba(X)[:, 1])\n",
    "#fpr, tpr, thresholds"
   ]
  },
  {
   "cell_type": "code",
   "execution_count": 37,
   "metadata": {},
   "outputs": [
    {
     "data": {
      "image/png": "[encoded data removed]",
      "text/plain": [
       "<Figure size 432x288 with 1 Axes>"
      ]
     },
     "metadata": {
      "needs_background": "light"
     },
     "output_type": "display_data"
    }
   ],
   "source": [
    "#import matplotlib.pyplot as plt\n",
    "plt.plot(fpr, tpr, 'o-', label=\"lda\")\n",
    "plt.plot([0, 1], [0, 1], 'k--')\n",
    "#plt.plot([fallout], [recall], 'ro', ms=10)\n",
    "plt.xlabel('Fall-Out)')\n",
    "plt.ylabel('Recall')\n",
    "plt.title('ROC Curve(Receiver operating characteristic)')\n",
    "plt.show()"
   ]
  },
  {
   "cell_type": "code",
   "execution_count": 38,
   "metadata": {},
   "outputs": [
    {
     "name": "stderr",
     "output_type": "stream",
     "text": [
      "C:\\Users\\ahdal\\anaconda3\\lib\\site-packages\\sklearn\\utils\\validation.py:72: DataConversionWarning: A column-vector y was passed when a 1d array was expected. Please change the shape of y to (n_samples, ), for example using ravel().\n",
      "  return f(**kwargs)\n",
      "C:\\Users\\ahdal\\anaconda3\\lib\\site-packages\\sklearn\\utils\\validation.py:72: DataConversionWarning: A column-vector y was passed when a 1d array was expected. Please change the shape of y to (n_samples, ), for example using ravel().\n",
      "  return f(**kwargs)\n",
      "C:\\Users\\ahdal\\anaconda3\\lib\\site-packages\\sklearn\\utils\\validation.py:72: DataConversionWarning: A column-vector y was passed when a 1d array was expected. Please change the shape of y to (n_samples, ), for example using ravel().\n",
      "  return f(**kwargs)\n",
      "C:\\Users\\ahdal\\anaconda3\\lib\\site-packages\\sklearn\\utils\\validation.py:72: DataConversionWarning: A column-vector y was passed when a 1d array was expected. Please change the shape of y to (n_samples, ), for example using ravel().\n",
      "  return f(**kwargs)\n"
     ]
    }
   ],
   "source": [
    "#from sklearn.datasets import make_classification\n",
    "model1 = LinearDiscriminantAnalysis().fit(X, y)\n",
    "y_hat1 = model1.predict(X)\n",
    "\n",
    "from sklearn.discriminant_analysis import QuadraticDiscriminantAnalysis\n",
    "model2 = QuadraticDiscriminantAnalysis().fit(X, y)\n",
    "y_hat2 = model2.predict(X)\n",
    "\n",
    "from sklearn.naive_bayes import GaussianNB\n",
    "model3 = GaussianNB().fit(X,y)\n",
    "y_hat3 = model3.predict(X)\n",
    "\n",
    "from sklearn.naive_bayes import MultinomialNB # 다변량가우스분포\n",
    "model4 = MultinomialNB().fit(X,y)\n",
    "y_hat4 = model4.predict(X)"
   ]
  },
  {
   "cell_type": "code",
   "execution_count": 39,
   "metadata": {},
   "outputs": [],
   "source": [
    "#from sklearn.naive_bayes import BernoulliNB\n",
    "#model3 = BernoulliNB(alpha=2).fit(X,y)\n",
    "#y_hat3 = model3.predict(X)"
   ]
  },
  {
   "cell_type": "code",
   "execution_count": 40,
   "metadata": {
    "scrolled": true
   },
   "outputs": [
    {
     "name": "stdout",
     "output_type": "stream",
     "text": [
      "[[9644   23]\n",
      " [ 252   81]]\n"
     ]
    }
   ],
   "source": [
    "print(confusion_matrix(y, y_hat1))"
   ]
  },
  {
   "cell_type": "code",
   "execution_count": 41,
   "metadata": {},
   "outputs": [
    {
     "name": "stdout",
     "output_type": "stream",
     "text": [
      "[[9637   30]\n",
      " [ 244   89]]\n"
     ]
    }
   ],
   "source": [
    "print(confusion_matrix(y, y_hat2))"
   ]
  },
  {
   "cell_type": "code",
   "execution_count": 42,
   "metadata": {
    "scrolled": true
   },
   "outputs": [
    {
     "name": "stdout",
     "output_type": "stream",
     "text": [
      "[[9618   49]\n",
      " [ 238   95]]\n"
     ]
    }
   ],
   "source": [
    "print(confusion_matrix(y, y_hat3))"
   ]
  },
  {
   "cell_type": "code",
   "execution_count": 43,
   "metadata": {},
   "outputs": [
    {
     "name": "stdout",
     "output_type": "stream",
     "text": [
      "[[9667    0]\n",
      " [ 333    0]]\n"
     ]
    }
   ],
   "source": [
    "print(confusion_matrix(y, y_hat4))"
   ]
  },
  {
   "cell_type": "code",
   "execution_count": 44,
   "metadata": {},
   "outputs": [
    {
     "name": "stdout",
     "output_type": "stream",
     "text": [
      "              precision    recall  f1-score   support\n",
      "\n",
      "           0       0.97      1.00      0.99      9667\n",
      "           1       0.78      0.24      0.37       333\n",
      "\n",
      "    accuracy                           0.97     10000\n",
      "   macro avg       0.88      0.62      0.68     10000\n",
      "weighted avg       0.97      0.97      0.97     10000\n",
      "\n"
     ]
    }
   ],
   "source": [
    "print(classification_report(y, model1.predict(X)))"
   ]
  },
  {
   "cell_type": "code",
   "execution_count": 45,
   "metadata": {
    "scrolled": false
   },
   "outputs": [
    {
     "name": "stdout",
     "output_type": "stream",
     "text": [
      "              precision    recall  f1-score   support\n",
      "\n",
      "           0       0.98      1.00      0.99      9667\n",
      "           1       0.75      0.27      0.39       333\n",
      "\n",
      "    accuracy                           0.97     10000\n",
      "   macro avg       0.86      0.63      0.69     10000\n",
      "weighted avg       0.97      0.97      0.97     10000\n",
      "\n"
     ]
    }
   ],
   "source": [
    "print(classification_report(y, model2.predict(X)))"
   ]
  },
  {
   "cell_type": "code",
   "execution_count": 46,
   "metadata": {},
   "outputs": [
    {
     "name": "stdout",
     "output_type": "stream",
     "text": [
      "              precision    recall  f1-score   support\n",
      "\n",
      "           0       0.98      0.99      0.99      9667\n",
      "           1       0.66      0.29      0.40       333\n",
      "\n",
      "    accuracy                           0.97     10000\n",
      "   macro avg       0.82      0.64      0.69     10000\n",
      "weighted avg       0.97      0.97      0.97     10000\n",
      "\n"
     ]
    }
   ],
   "source": [
    "print(classification_report(y, model3.predict(X)))"
   ]
  },
  {
   "cell_type": "code",
   "execution_count": 47,
   "metadata": {},
   "outputs": [
    {
     "name": "stdout",
     "output_type": "stream",
     "text": [
      "              precision    recall  f1-score   support\n",
      "\n",
      "           0       0.97      1.00      0.98      9667\n",
      "           1       0.00      0.00      0.00       333\n",
      "\n",
      "    accuracy                           0.97     10000\n",
      "   macro avg       0.48      0.50      0.49     10000\n",
      "weighted avg       0.93      0.97      0.95     10000\n",
      "\n"
     ]
    },
    {
     "name": "stderr",
     "output_type": "stream",
     "text": [
      "C:\\Users\\ahdal\\anaconda3\\lib\\site-packages\\sklearn\\metrics\\_classification.py:1221: UndefinedMetricWarning: Precision and F-score are ill-defined and being set to 0.0 in labels with no predicted samples. Use `zero_division` parameter to control this behavior.\n",
      "  _warn_prf(average, modifier, msg_start, len(result))\n"
     ]
    }
   ],
   "source": [
    "print(classification_report(y, model4.predict(X)))"
   ]
  },
  {
   "cell_type": "code",
   "execution_count": 48,
   "metadata": {
    "scrolled": true
   },
   "outputs": [
    {
     "data": {
      "image/png": "[encoded data removed]",
      "text/plain": [
       "<Figure size 432x288 with 1 Axes>"
      ]
     },
     "metadata": {
      "needs_background": "light"
     },
     "output_type": "display_data"
    }
   ],
   "source": [
    "fpr1, tpr1, thresholds1 = roc_curve(y, model1.decision_function(X))\n",
    "fpr2, tpr2, thresholds1 = roc_curve(y, model2.decision_function(X))\n",
    "fpr3, tpr3, thresholds1 = roc_curve(y, model3.predict_proba(X)[:, 1]) # NB는 decision_function 메서드를 제공하지 않는 모형임. 따라서 확률 따로 입력해주어야함.\n",
    "fpr4, tpr4, thresholds1 = roc_curve(y, model4.predict_proba(X)[:, 1]) # NB는 decision_function 메서드를 제공하지 않는 모형임. 따라서 확률 따로 입력해주어야함.\n",
    "\n",
    "plt.plot(fpr1, tpr1, 'o-', ms=2, label=\"LDA\")\n",
    "plt.plot(fpr2, tpr2, 'o-', ms=2, label=\"QDA\")\n",
    "plt.plot(fpr3, tpr3, 'o-', ms=2, label=\"GaussianNB\")\n",
    "plt.plot(fpr4, tpr4, 'o-', ms=2, label=\"MultinomialNB\")\n",
    "\n",
    "\n",
    "plt.legend()\n",
    "plt.plot([0, 1], [0, 1], 'k--')\n",
    "plt.xlabel('Fall-Out')\n",
    "plt.ylabel('Recall')\n",
    "plt.title('ROC Curve')\n",
    "plt.show()"
   ]
  },
  {
   "cell_type": "code",
   "execution_count": 49,
   "metadata": {
    "scrolled": true
   },
   "outputs": [
    {
     "data": {
      "text/plain": [
       "(0.9495584339900053, 0.9495317185396838, 0.9446511785396651, 0.701788164496347)"
      ]
     },
     "execution_count": 49,
     "metadata": {},
     "output_type": "execute_result"
    }
   ],
   "source": [
    "from sklearn.metrics import auc\n",
    "auc(fpr1, tpr1), auc(fpr2, tpr2), auc(fpr3, tpr3), auc(fpr4, tpr4)"
   ]
  }
 ],
 "metadata": {
  "kernelspec": {
   "display_name": "Python 3",
   "language": "python",
   "name": "python3"
  },
  "language_info": {
   "codemirror_mode": {
    "name": "ipython",
    "version": 3
   },
   "file_extension": ".py",
   "mimetype": "text/x-python",
   "name": "python",
   "nbconvert_exporter": "python",
   "pygments_lexer": "ipython3",
   "version": "3.8.5"
  }
 },
 "nbformat": 4,
 "nbformat_minor": 4
}
