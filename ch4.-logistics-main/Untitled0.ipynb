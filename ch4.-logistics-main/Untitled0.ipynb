{
  "nbformat": 4,
  "nbformat_minor": 0,
  "metadata": {
    "colab": {
      "name": "Untitled0.ipynb",
      "provenance": [],
      "collapsed_sections": []
    },
    "kernelspec": {
      "name": "python3",
      "display_name": "Python 3"
    },
    "language_info": {
      "name": "python"
    }
  },
  "cells": [
    {
      "cell_type": "markdown",
      "metadata": {
        "id": "V00yWW21NA8d"
      },
      "source": [
        "## 4.3 로지스틱 회귀(Logistic Regression)\n",
        "\n",
        "로지스틱 회귀:  반응변수 Y를 직접 모델링하지 않고 Y가 특정 범주에 속하는 확률을 모델링 하는 것.\n",
        "\n",
        "예제: Defalult자료를 통해 연체확률 모델링.\n",
        "\n",
        "사용데이터: R - ISLR - Default dataset.\n",
        "\n",
        "주어진 Balance에 대한 연체확률 : Pr(default = Yes|balance) = p(balance)\n",
        "이때 p(balance)의 범위는, 0 < p(balance) < 1이 된다\n",
        "이떄 default낼 것으로 예측하는 데는 보수적일 수록 0에 가깝게 설정하면 된다.\n",
        "\n",
        "ex) p(balance) > 0.5인 사람은 모두 Default = Yes라고 할 수 있고, \\\n",
        "보수적으로 잡는 다면 p(balance > 0.1과 같이 낮은 임계치를 사용하면 된다.\n",
        "\n",
        "\n",
        "\n"
      ]
    },
    {
      "cell_type": "markdown",
      "metadata": {
        "id": "y9AKcxAlVAAA"
      },
      "source": [
        "## 4.3.1 로지스틱 모델\n",
        "p(X) = Pr(Y = 1|X)와 X간의 관계를 어떻게 모델링 할 것인가에 대한 질문.\n",
        "\n",
        "4.2절에서는 선형회귀모델을 사용하는 것에 대한 언급이 있었다.\n",
        "\n",
        "\"P(X) = β_0 + β_1X\"\n",
        "\n",
        "이와같은 모델링의 경우 카드대금(balance)이 0에 가까우면 연체확률이 음수, 카드대금이 아주 큰 경우 1보다 커질 수 있다.\n",
        "\n",
        "따라서, balance가 0과 1 사이에 있다는 전제를 충족시킬 수 없다.\n",
        "\n",
        "이때 사용하는 것이 로지스틱 함수가 된다.\n",
        "\n",
        "$$p(X) = \\frac {e^{b_0 + b_1X}}{1+e^{b_0 + b_1X}}$$\n",
        "\n",
        "\n",
        "다음과 같이 표현할 수 있는데,\n",
        "$$ \\frac {p(X)}{1-p(X)} = {e^{b_0 + b_1X}} $$\n",
        "\n",
        "이때 오른쪽 항을 odds라고 하고, 항상 0과∞사이의 값을 가진다.\n",
        "\n",
        "이때 공산이 0에 가까울수록 연체확률이 매우 낮고, ∞에 가까울수록 연체확률이 매우 높다는 것을 뜻한다.\n",
        "\n",
        "ex) \\\n",
        "p(X) = 0.2, odds = 0.2/(1-0.2) = 0.8 = 5명 중 1명이 연체\\\n",
        "p(x) = 0.9, odds = 0.9(1-0.9) = 9 = 10명 중 9명이 연체\n",
        "\n",
        "$$ \\log \\frac {p(X)}{1-p(X)} = b_0 + b_1X $$\n",
        "\n",
        "\n",
        "좌변 : 로그 공산(로짓), 로지스틱 회귀모델은 X에 선형적인 로짓을 가지게 된다."
      ]
    },
    {
      "cell_type": "markdown",
      "metadata": {
        "id": "fiEmoeVKeHz0"
      },
      "source": [
        "## 4.3.2. 회귀계수의 추정\n",
        "\n",
        "$$ b_0, b_1 $$\n",
        "위의 값은 따로 주어지지 않기 때문에 추정해야 한다.\n"
      ]
    },
    {
      "cell_type": "code",
      "metadata": {
        "id": "_YXbjTgOT9JU"
      },
      "source": [
        "from sklearn.linear_model import LogisticRegression\n",
        "import statsmodels.api as sm \n",
        "import pandas as pd\n",
        "import numpy as np\n",
        "import math"
      ],
      "execution_count": 67,
      "outputs": []
    },
    {
      "cell_type": "code",
      "metadata": {
        "colab": {
          "base_uri": "https://localhost:8080/"
        },
        "id": "otxHtW4nfouN",
        "outputId": "185013ed-b5c7-4272-b8ea-f1686abadf48"
      },
      "source": [
        "url = 'https://raw.githubusercontent.com/RAhyunki/dataset/main/Default.csv' # github에 있는 raw파일 로드\n",
        "Default = pd.read_csv(url) # credit dataframe에 저장\n",
        "print(Default.shape)\n",
        "print(Default.head())"
      ],
      "execution_count": 55,
      "outputs": [
        {
          "output_type": "stream",
          "text": [
            "(10000, 4)\n",
            "  default student      balance        income\n",
            "0      No      No   729.526495  44361.625074\n",
            "1      No     Yes   817.180407  12106.134700\n",
            "2      No      No  1073.549164  31767.138947\n",
            "3      No      No   529.250605  35704.493935\n",
            "4      No      No   785.655883  38463.495879\n"
          ],
          "name": "stdout"
        }
      ]
    },
    {
      "cell_type": "code",
      "metadata": {
        "colab": {
          "base_uri": "https://localhost:8080/"
        },
        "id": "iu-WMuzxkOFr",
        "outputId": "dc5e70da-5d5d-41d8-a29c-96467e101f6f"
      },
      "source": [
        "Default.info()"
      ],
      "execution_count": 56,
      "outputs": [
        {
          "output_type": "stream",
          "text": [
            "<class 'pandas.core.frame.DataFrame'>\n",
            "RangeIndex: 10000 entries, 0 to 9999\n",
            "Data columns (total 4 columns):\n",
            " #   Column   Non-Null Count  Dtype  \n",
            "---  ------   --------------  -----  \n",
            " 0   default  10000 non-null  object \n",
            " 1   student  10000 non-null  object \n",
            " 2   balance  10000 non-null  float64\n",
            " 3   income   10000 non-null  float64\n",
            "dtypes: float64(2), object(2)\n",
            "memory usage: 312.6+ KB\n"
          ],
          "name": "stdout"
        }
      ]
    },
    {
      "cell_type": "code",
      "metadata": {
        "colab": {
          "base_uri": "https://localhost:8080/"
        },
        "id": "S0sWNPoxk_Oa",
        "outputId": "a5fa331d-538b-4c37-d157-951c77a451a8"
      },
      "source": [
        "Default.default.unique()"
      ],
      "execution_count": 57,
      "outputs": [
        {
          "output_type": "execute_result",
          "data": {
            "text/plain": [
              "array(['No', 'Yes'], dtype=object)"
            ]
          },
          "metadata": {
            "tags": []
          },
          "execution_count": 57
        }
      ]
    },
    {
      "cell_type": "code",
      "metadata": {
        "colab": {
          "base_uri": "https://localhost:8080/"
        },
        "id": "KPMQcztlkT6h",
        "outputId": "1794be51-c167-4ead-c0c0-1935d13e8a24"
      },
      "source": [
        "Default['default'] = pd.Series(np.where(Default.default.values == 'Yes', 1, 0), Default.index)\n",
        "Default['student'] = pd.Series(np.where(Default.student.values == 'Yes', 1, 0), Default.index)\n",
        "Default.info()"
      ],
      "execution_count": 58,
      "outputs": [
        {
          "output_type": "stream",
          "text": [
            "<class 'pandas.core.frame.DataFrame'>\n",
            "RangeIndex: 10000 entries, 0 to 9999\n",
            "Data columns (total 4 columns):\n",
            " #   Column   Non-Null Count  Dtype  \n",
            "---  ------   --------------  -----  \n",
            " 0   default  10000 non-null  int64  \n",
            " 1   student  10000 non-null  int64  \n",
            " 2   balance  10000 non-null  float64\n",
            " 3   income   10000 non-null  float64\n",
            "dtypes: float64(2), int64(2)\n",
            "memory usage: 312.6 KB\n"
          ],
          "name": "stdout"
        }
      ]
    },
    {
      "cell_type": "code",
      "metadata": {
        "colab": {
          "base_uri": "https://localhost:8080/",
          "height": 198
        },
        "id": "TRJlH6_6lSp8",
        "outputId": "135c2004-6a41-424d-89bc-9f56c65d5d0e"
      },
      "source": [
        "Default.head()"
      ],
      "execution_count": 59,
      "outputs": [
        {
          "output_type": "execute_result",
          "data": {
            "text/html": [
              "<div>\n",
              "<style scoped>\n",
              "    .dataframe tbody tr th:only-of-type {\n",
              "        vertical-align: middle;\n",
              "    }\n",
              "\n",
              "    .dataframe tbody tr th {\n",
              "        vertical-align: top;\n",
              "    }\n",
              "\n",
              "    .dataframe thead th {\n",
              "        text-align: right;\n",
              "    }\n",
              "</style>\n",
              "<table border=\"1\" class=\"dataframe\">\n",
              "  <thead>\n",
              "    <tr style=\"text-align: right;\">\n",
              "      <th></th>\n",
              "      <th>default</th>\n",
              "      <th>student</th>\n",
              "      <th>balance</th>\n",
              "      <th>income</th>\n",
              "    </tr>\n",
              "  </thead>\n",
              "  <tbody>\n",
              "    <tr>\n",
              "      <th>0</th>\n",
              "      <td>0</td>\n",
              "      <td>0</td>\n",
              "      <td>729.526495</td>\n",
              "      <td>44361.625074</td>\n",
              "    </tr>\n",
              "    <tr>\n",
              "      <th>1</th>\n",
              "      <td>0</td>\n",
              "      <td>1</td>\n",
              "      <td>817.180407</td>\n",
              "      <td>12106.134700</td>\n",
              "    </tr>\n",
              "    <tr>\n",
              "      <th>2</th>\n",
              "      <td>0</td>\n",
              "      <td>0</td>\n",
              "      <td>1073.549164</td>\n",
              "      <td>31767.138947</td>\n",
              "    </tr>\n",
              "    <tr>\n",
              "      <th>3</th>\n",
              "      <td>0</td>\n",
              "      <td>0</td>\n",
              "      <td>529.250605</td>\n",
              "      <td>35704.493935</td>\n",
              "    </tr>\n",
              "    <tr>\n",
              "      <th>4</th>\n",
              "      <td>0</td>\n",
              "      <td>0</td>\n",
              "      <td>785.655883</td>\n",
              "      <td>38463.495879</td>\n",
              "    </tr>\n",
              "  </tbody>\n",
              "</table>\n",
              "</div>"
            ],
            "text/plain": [
              "   default  student      balance        income\n",
              "0        0        0   729.526495  44361.625074\n",
              "1        0        1   817.180407  12106.134700\n",
              "2        0        0  1073.549164  31767.138947\n",
              "3        0        0   529.250605  35704.493935\n",
              "4        0        0   785.655883  38463.495879"
            ]
          },
          "metadata": {
            "tags": []
          },
          "execution_count": 59
        }
      ]
    },
    {
      "cell_type": "code",
      "metadata": {
        "colab": {
          "base_uri": "https://localhost:8080/"
        },
        "id": "uFMKxH5YlKr9",
        "outputId": "f2824bcd-9813-4c19-a442-08bc10eea540"
      },
      "source": [
        "Default = Default.astype('int')\n",
        "Default.info()"
      ],
      "execution_count": 61,
      "outputs": [
        {
          "output_type": "stream",
          "text": [
            "<class 'pandas.core.frame.DataFrame'>\n",
            "RangeIndex: 10000 entries, 0 to 9999\n",
            "Data columns (total 4 columns):\n",
            " #   Column   Non-Null Count  Dtype\n",
            "---  ------   --------------  -----\n",
            " 0   default  10000 non-null  int64\n",
            " 1   student  10000 non-null  int64\n",
            " 2   balance  10000 non-null  int64\n",
            " 3   income   10000 non-null  int64\n",
            "dtypes: int64(4)\n",
            "memory usage: 312.6 KB\n"
          ],
          "name": "stdout"
        }
      ]
    },
    {
      "cell_type": "code",
      "metadata": {
        "colab": {
          "base_uri": "https://localhost:8080/"
        },
        "id": "NCK7MfXTf_XD",
        "outputId": "7f9d733e-ad5e-48f8-f72e-422d4eaf9748"
      },
      "source": [
        "model_df = sm.Logit.from_formula(\"default ~ balance\", Default)\n",
        "result_df = model_df.fit()\n",
        "print(result_df.summary())"
      ],
      "execution_count": 63,
      "outputs": [
        {
          "output_type": "stream",
          "text": [
            "Optimization terminated successfully.\n",
            "         Current function value: 0.079826\n",
            "         Iterations 10\n",
            "                           Logit Regression Results                           \n",
            "==============================================================================\n",
            "Dep. Variable:                default   No. Observations:                10000\n",
            "Model:                          Logit   Df Residuals:                     9998\n",
            "Method:                           MLE   Df Model:                            1\n",
            "Date:                Tue, 20 Apr 2021   Pseudo R-squ.:                  0.4534\n",
            "Time:                        04:43:23   Log-Likelihood:                -798.26\n",
            "converged:                       True   LL-Null:                       -1460.3\n",
            "Covariance Type:            nonrobust   LLR p-value:                6.465e-290\n",
            "==============================================================================\n",
            "                 coef    std err          z      P>|z|      [0.025      0.975]\n",
            "------------------------------------------------------------------------------\n",
            "Intercept    -10.6481      0.361    -29.493      0.000     -11.356      -9.940\n",
            "balance        0.0055      0.000     24.953      0.000       0.005       0.006\n",
            "==============================================================================\n",
            "\n",
            "Possibly complete quasi-separation: A fraction 0.13 of observations can be\n",
            "perfectly predicted. This might indicate that there is complete\n",
            "quasi-separation. In this case some parameters will not be identified.\n"
          ],
          "name": "stdout"
        }
      ]
    },
    {
      "cell_type": "markdown",
      "metadata": {
        "id": "nbyvUapVl7MY"
      },
      "source": [
        "## 4.3.3 예측하기\n",
        "\n",
        "계수가 추정되었으면, 임의의 카드대금에 대한 default확률을 계산할 수 있다.\n",
        "\n",
        "[카드 대금에 대한 default rate]"
      ]
    },
    {
      "cell_type": "code",
      "metadata": {
        "id": "wVwDVr2BkIIA"
      },
      "source": [
        "def default_rate1 (balance):\n",
        "  exponent = -10.6481 + 0.0055 * balance\n",
        "  numerator = math.exp(exponent)\n",
        "  denominator = 1+numerator\n",
        "  default_rate = numerator/denominator*100\n",
        "  print(\"대금이\", balance,\"$ 인 사람의 연체율 : \", round(default_rate, 2), \"%\")"
      ],
      "execution_count": 89,
      "outputs": []
    },
    {
      "cell_type": "code",
      "metadata": {
        "colab": {
          "base_uri": "https://localhost:8080/"
        },
        "id": "zxtthohAl0u_",
        "outputId": "a08cd24d-a200-42a5-ad3a-f8825092155f"
      },
      "source": [
        "default_rate1(1000)"
      ],
      "execution_count": 90,
      "outputs": [
        {
          "output_type": "stream",
          "text": [
            "대금이 1000 $ 인 사람의 연체율 :  0.58 %\n"
          ],
          "name": "stdout"
        }
      ]
    },
    {
      "cell_type": "code",
      "metadata": {
        "colab": {
          "base_uri": "https://localhost:8080/"
        },
        "id": "1_lBRdDBnNpk",
        "outputId": "3192a609-c857-4d75-b7ff-1117d72c905d"
      },
      "source": [
        "default_rate1(2000)"
      ],
      "execution_count": 91,
      "outputs": [
        {
          "output_type": "stream",
          "text": [
            "대금이 2000 $ 인 사람의 연체율 :  58.71 %\n"
          ],
          "name": "stdout"
        }
      ]
    },
    {
      "cell_type": "markdown",
      "metadata": {
        "id": "oj4bT4UDn0v9"
      },
      "source": [
        "[학생여부에 따른 default rate]"
      ]
    },
    {
      "cell_type": "code",
      "metadata": {
        "colab": {
          "base_uri": "https://localhost:8080/"
        },
        "id": "QNYjQuhOnRcD",
        "outputId": "e60aa1c5-6b2c-4255-8c32-b977e6356e2c"
      },
      "source": [
        "model_df = sm.Logit.from_formula(\"default ~ student\", Default)\n",
        "result_df = model_df.fit()\n",
        "print(result_df.summary())"
      ],
      "execution_count": 92,
      "outputs": [
        {
          "output_type": "stream",
          "text": [
            "Optimization terminated successfully.\n",
            "         Current function value: 0.145434\n",
            "         Iterations 7\n",
            "                           Logit Regression Results                           \n",
            "==============================================================================\n",
            "Dep. Variable:                default   No. Observations:                10000\n",
            "Model:                          Logit   Df Residuals:                     9998\n",
            "Method:                           MLE   Df Model:                            1\n",
            "Date:                Tue, 20 Apr 2021   Pseudo R-squ.:                0.004097\n",
            "Time:                        04:53:30   Log-Likelihood:                -1454.3\n",
            "converged:                       True   LL-Null:                       -1460.3\n",
            "Covariance Type:            nonrobust   LLR p-value:                 0.0005416\n",
            "==============================================================================\n",
            "                 coef    std err          z      P>|z|      [0.025      0.975]\n",
            "------------------------------------------------------------------------------\n",
            "Intercept     -3.5041      0.071    -49.554      0.000      -3.643      -3.366\n",
            "student        0.4049      0.115      3.520      0.000       0.179       0.630\n",
            "==============================================================================\n"
          ],
          "name": "stdout"
        }
      ]
    },
    {
      "cell_type": "code",
      "metadata": {
        "id": "SAVWDCEYn9C-"
      },
      "source": [
        "def default_rate2 (student):\n",
        "  exponent = -3.5041 + 0.4049 * student\n",
        "  numerator = math.exp(exponent)\n",
        "  denominator = 1+numerator\n",
        "  default_rate = numerator/denominator*100\n",
        "  if student == 1:\n",
        "    print(\"학생인 경우 연체율은\" , round(default_rate, 2), \"%\")\n",
        "  else:\n",
        "    print(\"학생이 아닌 경우 연체율은\" , round(default_rate, 2), \"%\")"
      ],
      "execution_count": 99,
      "outputs": []
    },
    {
      "cell_type": "code",
      "metadata": {
        "colab": {
          "base_uri": "https://localhost:8080/"
        },
        "id": "WVDBYfwcoSNO",
        "outputId": "ec950ab4-260c-4550-87a4-7f5998ec719b"
      },
      "source": [
        "default_rate2(1), default_rate2(0)"
      ],
      "execution_count": 102,
      "outputs": [
        {
          "output_type": "stream",
          "text": [
            "학생인 경우 연체율은 4.31 %\n",
            "학생이 아닌 경우 연체율은 2.92 %\n"
          ],
          "name": "stdout"
        },
        {
          "output_type": "execute_result",
          "data": {
            "text/plain": [
              "(None, None)"
            ]
          },
          "metadata": {
            "tags": []
          },
          "execution_count": 102
        }
      ]
    },
    {
      "cell_type": "markdown",
      "metadata": {
        "id": "I-uHLAatpVg5"
      },
      "source": [
        "## 4.3.4 다중로지스틱 회귀\n",
        "\n",
        "\n",
        "$$ \\log \\frac {p(X)}{1-p(X)} = b_0 + b_1X + ... + b_pX_p $$\n",
        "\n",
        "$$p(X) = \\frac {e^{b_0 + b_1X + ... +b_pX_p  }}{1+e^{b_0 + b_1X + ... +b_pX_p}}$$\n",
        "\n",
        "[대금, 소득, 학생여부에 따른 default rate]"
      ]
    },
    {
      "cell_type": "code",
      "metadata": {
        "colab": {
          "base_uri": "https://localhost:8080/"
        },
        "id": "e5MYN6GpoYMy",
        "outputId": "461e056b-7831-4580-cc94-035f03785b5f"
      },
      "source": [
        "model_df = sm.Logit.from_formula(\"default ~ balance + income + student\", Default)\n",
        "result_df = model_df.fit()\n",
        "print(result_df.summary())"
      ],
      "execution_count": 103,
      "outputs": [
        {
          "output_type": "stream",
          "text": [
            "Optimization terminated successfully.\n",
            "         Current function value: 0.078581\n",
            "         Iterations 10\n",
            "                           Logit Regression Results                           \n",
            "==============================================================================\n",
            "Dep. Variable:                default   No. Observations:                10000\n",
            "Model:                          Logit   Df Residuals:                     9996\n",
            "Method:                           MLE   Df Model:                            3\n",
            "Date:                Tue, 20 Apr 2021   Pseudo R-squ.:                  0.4619\n",
            "Time:                        05:01:18   Log-Likelihood:                -785.81\n",
            "converged:                       True   LL-Null:                       -1460.3\n",
            "Covariance Type:            nonrobust   LLR p-value:                3.389e-292\n",
            "==============================================================================\n",
            "                 coef    std err          z      P>|z|      [0.025      0.975]\n",
            "------------------------------------------------------------------------------\n",
            "Intercept    -10.8658      0.492    -22.078      0.000     -11.830      -9.901\n",
            "balance        0.0057      0.000     24.737      0.000       0.005       0.006\n",
            "income      3.038e-06    8.2e-06      0.370      0.711    -1.3e-05    1.91e-05\n",
            "student       -0.6466      0.236     -2.737      0.006      -1.110      -0.184\n",
            "==============================================================================\n",
            "\n",
            "Possibly complete quasi-separation: A fraction 0.15 of observations can be\n",
            "perfectly predicted. This might indicate that there is complete\n",
            "quasi-separation. In this case some parameters will not be identified.\n"
          ],
          "name": "stdout"
        }
      ]
    },
    {
      "cell_type": "code",
      "metadata": {
        "id": "eYNqMMPBp3ky"
      },
      "source": [
        "def default_rate2 (balance, income, student):\n",
        "  income1 = income/1000\n",
        "  exponent = -10.8658 + 0.0057 * balance + 0.003 * income1 -0.6468 * student  \n",
        "  numerator = math.exp(exponent)\n",
        "  denominator = 1+numerator\n",
        "  default_rate = numerator/denominator*100\n",
        "  if student == 1:\n",
        "    print(\"카드대금이\", balance, \"$이고, 소득이\", income,\"$인 학생인 경우 연체율은\" , round(default_rate, 2))\n",
        "  else:\n",
        "    print(\"카드대금이\", balance, \"$이고, 소득이\", income,\"$인 학생이 아닌 경우 연체율은\" , round(default_rate, 2))"
      ],
      "execution_count": 113,
      "outputs": []
    },
    {
      "cell_type": "code",
      "metadata": {
        "colab": {
          "base_uri": "https://localhost:8080/"
        },
        "id": "_Fvmp5wosg24",
        "outputId": "2c682b7c-3fed-4066-b075-56ce0980b682"
      },
      "source": [
        "default_rate2(1500, 40000, 1), default_rate2(1500, 40000, 0)"
      ],
      "execution_count": 115,
      "outputs": [
        {
          "output_type": "stream",
          "text": [
            "카드대금이 1500 $이고, 소득이 40000 $인 학생인 경우 연체율은 5.51\n",
            "카드대금이 1500 $이고, 소득이 40000 $인 학생이 아닌 경우 연체율은 10.01\n"
          ],
          "name": "stdout"
        },
        {
          "output_type": "execute_result",
          "data": {
            "text/plain": [
              "(None, None)"
            ]
          },
          "metadata": {
            "tags": []
          },
          "execution_count": 115
        }
      ]
    }
  ]
}