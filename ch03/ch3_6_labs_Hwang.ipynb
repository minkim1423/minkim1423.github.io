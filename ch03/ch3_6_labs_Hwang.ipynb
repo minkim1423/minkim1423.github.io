{
 "cells": [
  {
   "cell_type": "markdown",
   "metadata": {
    "colab_type": "text",
    "id": "view-in-github"
   },
   "source": [
    "<a href=\"https://colab.research.google.com/github/dmlcks123/minkim1423.github.io/blob/main/ch3_labs.ipynb\" target=\"_parent\"><img src=\"https://colab.research.google.com/assets/colab-badge.svg\" alt=\"Open In Colab\"/></a>"
   ]
  },
  {
   "cell_type": "code",
   "execution_count": null,
   "metadata": {
    "id": "khuj3Y2O8WCn"
   },
   "outputs": [],
   "source": [
    "# EDA(탐색적 자료분석)와 linear regression"
   ]
  },
  {
   "cell_type": "code",
   "execution_count": null,
   "metadata": {
    "id": "1m5r2VooBiWB"
   },
   "outputs": [],
   "source": [
    "import seaborn as sns # plot\n",
    "import matplotlib.pyplot as plt # plot\n",
    "import statsmodels.api as sm # 가설검정\n",
    "import numpy as np\n",
    "import pandas as pd\n",
    "import statsmodels.api as sm\n",
    "from sklearn.linear_model import LinearRegression\n",
    "\n",
    "from sklearn.metrics import accuracy_score, confusion_matrix, r2_score\n",
    "from sklearn.metrics import mean_squared_error"
   ]
  },
  {
   "cell_type": "code",
   "execution_count": null,
   "metadata": {
    "id": "nS12at1aCg8X"
   },
   "outputs": [],
   "source": [
    "# 실습1: 와인 품질 예측\n",
    "\n",
    "# 레드와인 1599, 화이트와인 4898 append\n",
    "# X_feature = 12\n",
    "# Y = 와인품질평가점수\n",
    "\n",
    "url = \"https://archive.ics.uci.edu/ml/machine-learning-databases/wine-quality/winequality-red.csv\"\n",
    "url2 = \"https://archive.ics.uci.edu/ml/machine-learning-databases/wine-quality/winequality-white.csv\""
   ]
  },
  {
   "cell_type": "code",
   "execution_count": null,
   "metadata": {
    "id": "TQj5uTnjDre4"
   },
   "outputs": [],
   "source": [
    "import pandas as pd\n",
    "\n",
    "redwine = pd.read_csv(url, sep = \";\", header = 0)\n",
    "\n",
    "redwine[\"type\"] = \"red\" # type 변수 추가, 레드 와인 식별\n",
    "redwine.head()"
   ]
  },
  {
   "cell_type": "code",
   "execution_count": null,
   "metadata": {
    "id": "KyYjLx37EFfD"
   },
   "outputs": [],
   "source": [
    "whitewine = pd.read_csv(url2, sep = \";\", header = 0 )\n",
    "\n",
    "whitewine[\"type\"] = \"white\"\n",
    "whitewine.head()"
   ]
  },
  {
   "cell_type": "code",
   "execution_count": null,
   "metadata": {
    "id": "hshdoByrFeAK"
   },
   "outputs": [],
   "source": [
    "# append\n",
    "\n",
    "wine = redwine.append(whitewine)\n",
    "wine.shape"
   ]
  },
  {
   "cell_type": "code",
   "execution_count": null,
   "metadata": {
    "id": "J3jkPGzmFtx7"
   },
   "outputs": [],
   "source": [
    "wine.columns = wine.columns.str.replace(\" \", \"_\") # 변수명 공백 처리 =\n",
    "wine.head()"
   ]
  },
  {
   "cell_type": "code",
   "execution_count": null,
   "metadata": {
    "id": "5-xKL9e3F687"
   },
   "outputs": [],
   "source": [
    "wine.describe() #요약통계량"
   ]
  },
  {
   "cell_type": "code",
   "execution_count": null,
   "metadata": {
    "id": "e91kq4EmGI4V"
   },
   "outputs": [],
   "source": [
    "wine.quality.describe() #Series 객체의 요약통계량(질적변수)"
   ]
  },
  {
   "cell_type": "code",
   "execution_count": null,
   "metadata": {
    "id": "tH7EHX2yGajr"
   },
   "outputs": [],
   "source": [
    "sorted(wine.quality.unique()) # quality: 1~10점인데 3~9점으로 배포되어 있음"
   ]
  },
  {
   "cell_type": "code",
   "execution_count": null,
   "metadata": {
    "id": "1rf4w-m1Gudu"
   },
   "outputs": [],
   "source": [
    "wine.quality.value_counts() # value count"
   ]
  },
  {
   "cell_type": "code",
   "execution_count": null,
   "metadata": {
    "id": "_0xU-cynGw_Y"
   },
   "outputs": [],
   "source": [
    "wine.groupby(\"type\")[\"quality\"].describe() #type으로 grouping 이후 quality 요약통계량"
   ]
  },
  {
   "cell_type": "code",
   "execution_count": null,
   "metadata": {
    "id": "TpllyqFoHrJk"
   },
   "outputs": [],
   "source": [
    "wine.groupby(\"type\")[\"quality\"].quantile([0,0.25,0.5,0.75,1]).unstack(\"type\")\n",
    "# quality별 사분위수 파악\n",
    "# unstack --> type변수 index --> coulumn으로 , dataframe 형식으로 변환"
   ]
  },
  {
   "cell_type": "code",
   "execution_count": null,
   "metadata": {
    "id": "FC1p8kXLH7JI"
   },
   "outputs": [],
   "source": [
    "# histogram\n",
    "# 종류별 품질 분포\n",
    "\n",
    "red_q = wine.loc[wine[\"type\"] == \"red\", \"quality\"] \n",
    "white_q = wine.loc[wine[\"type\"] == \"white\", \"quality\"]\n",
    "\n",
    "sns.set_style(\"darkgrid\") \n",
    "# dist 분포 plot, kenerl distibution(kde)\n",
    "sns.distplot(red_q, norm_hist = True, kde = False, color = \"red\", label = \"Red Wine\")\n",
    "sns.distplot(white_q, norm_hist = True, kde = False, color = \"blue\", label = \"White Wine\")\n",
    "plt.title(\"Distribution of Quality of Wine Type\")\n",
    "plt.xlabel(\"Quality Score\")\n",
    "plt.ylabel(\"Density\")\n",
    "plt.legend();\n",
    "\n",
    "# qulity 분포 5~7 점에 집중되어 있어"
   ]
  },
  {
   "cell_type": "code",
   "execution_count": null,
   "metadata": {
    "id": "GFzZB2v3JshN"
   },
   "outputs": [],
   "source": [
    "# 화이트와인과 레드와인의 품질 차이 있을까 \n",
    "wine.groupby(\"type\")[\"quality\"].aggregate([\"std\", \"mean\"]) #표준편차와 평균 확인하기"
   ]
  },
  {
   "cell_type": "code",
   "execution_count": null,
   "metadata": {
    "id": "Aehs29DuLCxN"
   },
   "outputs": [],
   "source": [
    "t_stat, p_value, df = sm.stats.ttest_ind(red_q, white_q) #t값, pvalue, 자유도 반환되어 나옴\n",
    "\"t-stat: {:.3f}, p-value: {:.4f}\".format(t_stat, p_value)\n",
    "\n",
    "# scipy.stats / statsmodels.api # 통계적 접근시 사용하는 모듈들\n",
    "# p값이 0임, 화이트와인과 레드와인의 품질 차이는 유의수준 1% 이내 통계적으로 유의함"
   ]
  },
  {
   "cell_type": "code",
   "execution_count": null,
   "metadata": {
    "id": "WR__DRIhNUj0"
   },
   "outputs": [],
   "source": [
    "# 와인품질모델 예측\n",
    "# 예측능력 평가지표 : RMSE(root mean square error), R_square"
   ]
  },
  {
   "cell_type": "code",
   "execution_count": null,
   "metadata": {
    "id": "1QY83cgQO9p6"
   },
   "outputs": [],
   "source": [
    "# model class \n",
    "from sklearn.linear_model import LinearRegression\n",
    "lr = LinearRegression(fit_intercept = True) # 상수항도 추정하겠음"
   ]
  },
  {
   "cell_type": "code",
   "execution_count": null,
   "metadata": {
    "id": "F43o6gUzPSqQ"
   },
   "outputs": [],
   "source": [
    "# 특징행렬과 대상벡터\n",
    "X = wine.drop([\"type\", \"quality\"], axis = 1)\n",
    "X.head()\n"
   ]
  },
  {
   "cell_type": "code",
   "execution_count": null,
   "metadata": {
    "id": "0nzhNGrZxv1z"
   },
   "outputs": [],
   "source": [
    "y = wine.quality\n",
    "y.head()"
   ]
  },
  {
   "cell_type": "code",
   "execution_count": null,
   "metadata": {
    "id": "7ee555wBPg-t"
   },
   "outputs": [],
   "source": [
    "# test set, train set 분류\n",
    "from sklearn.model_selection import train_test_split\n",
    "\n",
    "X_train, X_test, y_train, y_test = train_test_split(X, y, random_state = 1)\n",
    "# 랜덤추출 seed값 고정(필수 아님)\n",
    "# test size default : 0.25"
   ]
  },
  {
   "cell_type": "code",
   "execution_count": null,
   "metadata": {
    "id": "b8pkbx6SP41l"
   },
   "outputs": [],
   "source": [
    "lr.fit(X_train, y_train) # train set, model에 적합합"
   ]
  },
  {
   "cell_type": "code",
   "execution_count": null,
   "metadata": {
    "id": "L1phnsJQQb2d"
   },
   "outputs": [],
   "source": [
    "lr.coef_ # beta값"
   ]
  },
  {
   "cell_type": "code",
   "execution_count": null,
   "metadata": {
    "id": "PdauZH4EQkB6"
   },
   "outputs": [],
   "source": [
    "X_train.columns #변수명"
   ]
  },
  {
   "cell_type": "code",
   "execution_count": null,
   "metadata": {
    "id": "HROFHlN5QoBd"
   },
   "outputs": [],
   "source": [
    "lr.intercept_ #상수항"
   ]
  },
  {
   "cell_type": "code",
   "execution_count": null,
   "metadata": {
    "id": "9jfHkvbvQrGf"
   },
   "outputs": [],
   "source": [
    "y_pred = lr.predict(X_test) # test set 예측"
   ]
  },
  {
   "cell_type": "code",
   "execution_count": null,
   "metadata": {
    "id": "IIBPaeduRG4T"
   },
   "outputs": [],
   "source": [
    "y_train_pred = lr.predict(X_train) # train set 에측"
   ]
  },
  {
   "cell_type": "code",
   "execution_count": null,
   "metadata": {
    "id": "T1aNwlWpTOtU"
   },
   "outputs": [],
   "source": [
    "sns.distplot(y_pred, hist = False, kde = True, color = \"red\", label = \"y_pred\")\n",
    "sns.distplot(y_test, hist = False, kde = True, color = \"blue\", label = \"y_test\")\n",
    "plt.xlabel(\"Quality Score\")\n",
    "plt.ylabel(\"Density\")\n",
    "plt.legend();"
   ]
  },
  {
   "cell_type": "code",
   "execution_count": null,
   "metadata": {
    "id": "KJ7o0nNIve0g"
   },
   "outputs": [],
   "source": [
    "sns.distplot(y_train_pred, hist = False, kde = True, color = \"red\", label = \"y_train_pred\")\n",
    "sns.distplot(y_train, hist = False, kde = True, color = \"blue\", label = \"y_train\")\n",
    "plt.xlabel(\"Quality Score\")\n",
    "plt.ylabel(\"Density\")\n",
    "plt.legend();"
   ]
  },
  {
   "cell_type": "code",
   "execution_count": null,
   "metadata": {
    "id": "yJChIYoDTLJi"
   },
   "outputs": [],
   "source": [
    "# r_square\n",
    "print(\"Train data\\'s Accuracy : \", format(lr.score(X_train, y_train)))\n",
    "print(\"Test data\\'s Accuracy : \", format(lr.score(X_test, y_test)))"
   ]
  },
  {
   "cell_type": "code",
   "execution_count": null,
   "metadata": {
    "id": "jsym87tTkr-l"
   },
   "outputs": [],
   "source": [
    "# MSE\n",
    "print(\"Train MSE\\'s is \",np.round(np.sqrt(mean_squared_error(y_train, y_train_pred)),2))\n",
    "print(\"Test MSE\\'s is \",np.round(np.sqrt(mean_squared_error(y_test, y_pred)),2))"
   ]
  },
  {
   "cell_type": "code",
   "execution_count": null,
   "metadata": {
    "id": "iVVnl6OHziLM"
   },
   "outputs": [],
   "source": [
    "# 각 변수의 p-value 확인\n",
    "X_train = sm.add_constant(X_train)\n",
    "model = sm.OLS(y_train, X_train).fit()\n",
    "model.summary()"
   ]
  },
  {
   "cell_type": "code",
   "execution_count": null,
   "metadata": {
    "id": "TrsUC3lSyOHC"
   },
   "outputs": [],
   "source": [
    "## 전진 선택법\n",
    "variables = X_train.columns.tolist() ## 설명 변수 리스트\n",
    " \n",
    "y = y_train ## 반응 변수\n",
    "selected_variables = [] ## 선택된 변수들\n",
    "sl_enter = 0.05 # p-value, 유의수준 0.05 이하면 선택안함#####\n",
    " \n",
    "sv_per_step = [] ## 각 스텝별로 선택된 변수들\n",
    "adjusted_r_squared = [] ## 각 스텝별 수정된 결정계수\n",
    "steps = [] ## 스텝\n",
    "step = 0\n",
    "while len(variables) > 0:\n",
    "    remainder = list(set(variables) - set(selected_variables))\n",
    "    pval = pd.Series(index=remainder) ## 변수의 p-value\n",
    "    ## 기존에 포함된 변수와 새로운 변수 하나씩 돌아가면서 \n",
    "    ## 선형 모형을 적합한다.\n",
    "    for col in remainder: \n",
    "        X = X_train[selected_variables+[col]]\n",
    "        X = sm.add_constant(X)\n",
    "        model = sm.OLS(y,X).fit()\n",
    "        pval[col] = model.pvalues[col]\n",
    " \n",
    "    min_pval = pval.min()\n",
    "    if min_pval < sl_enter: ## 최소 p-value 값이 기준 값보다 작으면 포함\n",
    "        selected_variables.append(pval.idxmin())\n",
    "        \n",
    "        step += 1\n",
    "        steps.append(step)\n",
    "        adj_r_squared = sm.OLS(y,sm.add_constant(X_train[selected_variables])).fit().rsquared_adj\n",
    "        adjusted_r_squared.append(adj_r_squared)\n",
    "        sv_per_step.append(selected_variables.copy())\n",
    "    else:\n",
    "        break"
   ]
  },
  {
   "cell_type": "code",
   "execution_count": null,
   "metadata": {
    "id": "JjC2k7ff3XHU"
   },
   "outputs": [],
   "source": [
    "selected_variables"
   ]
  },
  {
   "cell_type": "code",
   "execution_count": null,
   "metadata": {
    "id": "zi4NFe363hzF"
   },
   "outputs": [],
   "source": [
    "fig = plt.figure(figsize=(10,10))\n",
    "fig.set_facecolor('white')\n",
    " \n",
    "font_size = 15\n",
    "plt.xticks(steps,[f'step {s}\\n'+'\\n'.join(sv_per_step[i]) for i,s in enumerate(steps)], fontsize=12)\n",
    "plt.plot(steps,adjusted_r_squared, marker='o')\n",
    "    \n",
    "plt.ylabel('Adjusted R Squared',fontsize=font_size)\n",
    "plt.grid(True)\n",
    "plt.show()"
   ]
  },
  {
   "cell_type": "code",
   "execution_count": null,
   "metadata": {
    "id": "qLQ_mjMX3kSr"
   },
   "outputs": [],
   "source": [
    "## 후진 소거법\n",
    "variables = X_train.columns.tolist() ## 설명 변수 리스트\n",
    " \n",
    "y = y_train ## 반응 변수\n",
    "selected_variables = variables ## 초기에는 모든 변수가 선택된 상태\n",
    "sl_remove = 0.05 # p-value 값이 유의수준 5% 보다 크다면 변수제거\n",
    " \n",
    "sv_per_step = [] ## 각 스텝별로 선택된 변수들\n",
    "adjusted_r_squared = [] ## 각 스텝별 수정된 결정계수\n",
    "steps = [] ## 스텝\n",
    "step = 0\n",
    "while len(selected_variables) > 0:\n",
    "    X = sm.add_constant(X_train[selected_variables])\n",
    "    p_vals = sm.OLS(y,X).fit().pvalues[1:] ## 절편항의 p-value는 뺀다\n",
    "    max_pval = p_vals.max() ## 최대 p-value\n",
    "    if max_pval >= sl_remove: ## 최대 p-value값이 기준값보다 크거나 같으면 제외\n",
    "        remove_variable = p_vals.idxmax()\n",
    "        selected_variables.remove(remove_variable)\n",
    " \n",
    "        step += 1\n",
    "        steps.append(step)\n",
    "        adj_r_squared = sm.OLS(y,sm.add_constant(X_train[selected_variables])).fit().rsquared_adj\n",
    "        adjusted_r_squared.append(adj_r_squared)\n",
    "        sv_per_step.append(selected_variables.copy())\n",
    "    else:\n",
    "        break"
   ]
  },
  {
   "cell_type": "code",
   "execution_count": null,
   "metadata": {
    "id": "KCwx3_8T5EE6"
   },
   "outputs": [],
   "source": [
    "selected_variables"
   ]
  },
  {
   "cell_type": "code",
   "execution_count": null,
   "metadata": {
    "id": "nBWhStMT5FfK"
   },
   "outputs": [],
   "source": [
    "fig = plt.figure(figsize=(10,10))\n",
    "fig.set_facecolor('white')\n",
    " \n",
    "font_size = 15\n",
    "plt.xticks(steps,[f'step {s}\\n'+'\\n'.join(sv_per_step[i]) for i,s in enumerate(steps)], fontsize=12)\n",
    "plt.plot(steps,adjusted_r_squared, marker='o')\n",
    "    \n",
    "plt.ylabel('Adjusted R Squared',fontsize=font_size)\n",
    "plt.grid(True)\n",
    "plt.show()"
   ]
  },
  {
   "cell_type": "code",
   "execution_count": null,
   "metadata": {
    "id": "BRd5oqIN5H2y"
   },
   "outputs": [],
   "source": [
    "## 전진 단계별 선택법: 유의수준보다 작으면 선택 이후 모델적합\n",
    "## 모델 적합후 변수 중 가장큰 p-value 유의수준보다 크면 삭제\n",
    "\n",
    "variables = X_train.columns.tolist() ## 설명 변수 리스트\n",
    " \n",
    "y = y_train ## 반응 변수\n",
    "selected_variables = [] ## 선택된 변수들\n",
    "sl_enter = 0.05 # 선택기준 유의수준\n",
    "sl_remove = 0.05 # 제거기준 유의수준\n",
    " \n",
    "sv_per_step = [] ## 각 스텝별로 선택된 변수들\n",
    "adjusted_r_squared = [] ## 각 스텝별 수정된 결정계수\n",
    "steps = [] ## 스텝\n",
    "step = 0\n",
    "while len(variables) > 0:\n",
    "    remainder = list(set(variables) - set(selected_variables))\n",
    "    pval = pd.Series(index=remainder) ## 변수의 p-value\n",
    "    ## 기존에 포함된 변수와 새로운 변수 하나씩 돌아가면서 \n",
    "    ## 선형 모형을 적합한다.\n",
    "    for col in remainder: \n",
    "        X = X_train[selected_variables+[col]]\n",
    "        X = sm.add_constant(X)\n",
    "        model = sm.OLS(y,X).fit()\n",
    "        pval[col] = model.pvalues[col]\n",
    " \n",
    "    min_pval = pval.min()\n",
    "    if min_pval < sl_enter: ## 최소 p-value 값이 기준 값보다 작으면 포함\n",
    "        selected_variables.append(pval.idxmin())\n",
    "        ## 선택된 변수들에대해서\n",
    "        ## 어떤 변수를 제거할지 고른다.\n",
    "        while len(selected_variables) > 0:\n",
    "            selected_X = X_train[selected_variables]\n",
    "            selected_X = sm.add_constant(selected_X)\n",
    "            selected_pval = sm.OLS(y,selected_X).fit().pvalues[1:] ## 절편항의 p-value는 뺀다\n",
    "            max_pval = selected_pval.max()\n",
    "            if max_pval >= sl_remove: ## 최대 p-value값이 기준값보다 크거나 같으면 제외\n",
    "                remove_variable = selected_pval.idxmax()\n",
    "                selected_variables.remove(remove_variable)\n",
    "            else:\n",
    "                break\n",
    "        \n",
    "        step += 1\n",
    "        steps.append(step)\n",
    "        adj_r_squared = sm.OLS(y,sm.add_constant(X_train[selected_variables])).fit().rsquared_adj\n",
    "        adjusted_r_squared.append(adj_r_squared)\n",
    "        sv_per_step.append(selected_variables.copy())\n",
    "    else:\n",
    "        break"
   ]
  },
  {
   "cell_type": "code",
   "execution_count": null,
   "metadata": {
    "id": "VIBt-JFI6f_9"
   },
   "outputs": [],
   "source": [
    "selected_variables"
   ]
  },
  {
   "cell_type": "code",
   "execution_count": null,
   "metadata": {
    "id": "YxDeaTGp6iee"
   },
   "outputs": [],
   "source": [
    "fig = plt.figure(figsize=(10,10))\n",
    "fig.set_facecolor('white')\n",
    " \n",
    "font_size = 15\n",
    "plt.xticks(steps,[f'step {s}\\n'+'\\n'.join(sv_per_step[i]) for i,s in enumerate(steps)], fontsize=12)\n",
    "plt.plot(steps,adjusted_r_squared, marker='o')\n",
    "    \n",
    "plt.ylabel('Adjusted R Squared',fontsize=font_size)\n",
    "plt.grid(True)\n",
    "plt.show()"
   ]
  },
  {
   "cell_type": "code",
   "execution_count": null,
   "metadata": {
    "id": "kJGDrFEM6nun"
   },
   "outputs": [],
   "source": [
    "model.summary()\n",
    "# 전진선택, 후진선택 출처:https://zephyrus1111.tistory.com/65"
   ]
  },
  {
   "cell_type": "code",
   "execution_count": null,
   "metadata": {
    "id": "2zN_esNo7KLb"
   },
   "outputs": [],
   "source": []
  }
 ],
 "metadata": {
  "colab": {
   "authorship_tag": "ABX9TyPG5NDQPApkoMV2dd5rC/6x",
   "include_colab_link": true,
   "name": "ch3_labs.ipynb",
   "private_outputs": true,
   "provenance": []
  },
  "kernelspec": {
   "display_name": "Python 3",
   "language": "python",
   "name": "python3"
  },
  "language_info": {
   "codemirror_mode": {
    "name": "ipython",
    "version": 3
   },
   "file_extension": ".py",
   "mimetype": "text/x-python",
   "name": "python",
   "nbconvert_exporter": "python",
   "pygments_lexer": "ipython3",
   "version": "3.8.5"
  }
 },
 "nbformat": 4,
 "nbformat_minor": 1
}
